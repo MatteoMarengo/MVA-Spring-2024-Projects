{
 "cells": [
  {
   "cell_type": "markdown",
   "id": "c2441ea7",
   "metadata": {},
   "source": [
    "----\n",
    "----\n",
    "# <b> DLMI Challenge </b>\n",
    "# <b> EfficientNet MIL training </b>\n",
    "# <b> Matteo MARENGO | matteo.marengo@ens-paris-saclay.fr </b>\n",
    "# <b> Manal MEFTAH | manal.meftah@ens-paris-saclay.fr </b>"
   ]
  },
  {
   "cell_type": "markdown",
   "id": "328c9b3d",
   "metadata": {},
   "source": [
    "----\n",
    "----\n",
    "# <b> Import libraries </b>"
   ]
  },
  {
   "cell_type": "code",
   "execution_count": 1,
   "id": "dd05e8f8",
   "metadata": {
    "execution": {
     "iopub.execute_input": "2024-03-25T18:51:26.323413Z",
     "iopub.status.busy": "2024-03-25T18:51:26.322703Z",
     "iopub.status.idle": "2024-03-25T18:51:33.721784Z",
     "shell.execute_reply": "2024-03-25T18:51:33.720964Z"
    },
    "papermill": {
     "duration": 7.408417,
     "end_time": "2024-03-25T18:51:33.724122",
     "exception": false,
     "start_time": "2024-03-25T18:51:26.315705",
     "status": "completed"
    },
    "tags": []
   },
   "outputs": [],
   "source": [
    "# Import libraries\n",
    "import numpy as np\n",
    "import pandas as pd\n",
    "import torch\n",
    "import os\n",
    "from datetime import date\n",
    "from PIL import Image\n",
    "from torch.utils.data import Dataset, DataLoader, Sampler\n",
    "from torchvision import models, transforms\n",
    "from torch.nn import nn\n",
    "from torch.utils.data.dataloader import default_collate\n",
    "from sklearn.metrics import balanced_accuracy_score\n",
    "import torch.optim as optim\n",
    "import matplotlib.pyplot as plt"
   ]
  },
  {
   "cell_type": "markdown",
   "id": "30341f18",
   "metadata": {},
   "source": [
    "----\n",
    "----\n",
    "# <b> Load the model </b>"
   ]
  },
  {
   "cell_type": "code",
   "execution_count": null,
   "id": "f1fd90c0",
   "metadata": {},
   "outputs": [],
   "source": [
    "class PatientImagesDataset(Dataset):\n",
    "    def __init__(self, root_dir, csv_file, transform=None):\n",
    "        self.root_dir = root_dir\n",
    "        self.csv_file = csv_file  \n",
    "        self.transform = transform\n",
    "        self.patient_images = {}  \n",
    "        self.patients_info = {}\n",
    "        self.df = pd.read_csv(csv_file)\n",
    "        self.df = self.csv_processing(self.df)\n",
    "        self.load_images()\n",
    "  \n",
    "\n",
    "    def csv_processing(self, features):\n",
    "        def calculate_age(born):\n",
    "            today = date.today()\n",
    "            try:\n",
    "                [day, month, year] = [int(i) for i in born.split(\"/\")]\n",
    "            except:\n",
    "                [day, month, year] = [int(i) for i in born.split(\"-\")]\n",
    "            return today.year - year - ((today.month, today.day) < (month, day))\n",
    "\n",
    "        features[\"DOB\"] = features[\"DOB\"].apply(calculate_age)  \n",
    "        features[\"GENDER\"] = features[\"GENDER\"].apply(lambda s: 0 if s == 'M' else 1)\n",
    "        return features\n",
    "\n",
    "\n",
    "    def load_images(self):\n",
    "        for _, row in self.df.iterrows():\n",
    "            patient_id = row['ID']\n",
    "            patient_folder = os.path.join(self.root_dir, patient_id)\n",
    "            self.patient_images[patient_id] = []  \n",
    "            if os.path.isdir(patient_folder):\n",
    "                for img_filename in os.listdir(patient_folder):\n",
    "                    img_path = os.path.join(patient_folder, img_filename)\n",
    "                    self.patient_images[patient_id].append(img_path)\n",
    "                    self.patients_info[img_path] = row.to_dict()\n",
    "\n",
    "    def __len__(self):\n",
    "        return len(self.df)  \n",
    "    \n",
    "    def __getitem__(self, idx):\n",
    "        patient_id = self.df.iloc[idx]['ID']\n",
    "        patient_data = self.df.iloc[idx].to_dict()\n",
    "        images = [Image.open(img_path).convert('RGB') for img_path in self.patient_images[patient_id]]\n",
    "        if self.transform:\n",
    "            images = [self.transform(image) for image in images]\n",
    "        label = patient_data['LABEL']\n",
    "        patient_info = {key: patient_data[key] for key in patient_data if key not in ['ID', 'LABEL']}\n",
    "        return images, label, patient_info\n"
   ]
  },
  {
   "cell_type": "code",
   "execution_count": null,
   "id": "fcfa29e5",
   "metadata": {},
   "outputs": [],
   "source": [
    "def custom_train_val_split(dataset, train_frac=0.8):\n",
    "    patient_ids = list(dataset.patient_images.keys())\n",
    "    total_patients = len(patient_ids)\n",
    "    \n",
    "    train_patient_ids = set(np.random.choice(patient_ids, int(train_frac * total_patients), replace=False))\n",
    "    val_patient_ids = set(patient_ids) - train_patient_ids\n",
    "    \n",
    "    train_df = dataset.df[dataset.df['ID'].isin(train_patient_ids)].reset_index(drop=True)\n",
    "    val_df = dataset.df[dataset.df['ID'].isin(val_patient_ids)].reset_index(drop=True)\n",
    "\n",
    "    train_dataset = PatientImagesDataset(dataset.root_dir, dataset.csv_file, dataset.transform)\n",
    "    train_dataset.df = train_df\n",
    "    train_dataset.load_images()  \n",
    "\n",
    "    val_dataset = PatientImagesDataset(dataset.root_dir, dataset.csv_file, dataset.transform)\n",
    "    val_dataset.df = val_df\n",
    "    val_dataset.load_images()  \n",
    "\n",
    "    return train_dataset, val_dataset\n",
    "\n",
    "\n",
    "\n",
    "def custom_collate_fn(batch):\n",
    "    images_flattened = [image for batch_item in batch for image in batch_item[0]]\n",
    "    labels = torch.tensor([item[1] for item in batch])\n",
    "    patient_infos = [item[2] for item in batch]\n",
    "    images_collated = default_collate(images_flattened)\n",
    "        \n",
    "    return images_collated, labels, patient_infos"
   ]
  },
  {
   "cell_type": "code",
   "execution_count": null,
   "id": "0a27914e",
   "metadata": {},
   "outputs": [],
   "source": [
    "class MultiInstanceModelWithEfficientNet(nn.Module):\n",
    "    def __init__(self, num_patient_features, output_dim=1):\n",
    "        super(MultiInstanceModelWithEfficientNet, self).__init__()\n",
    "        \n",
    "        # Load a pre-trained EfficientNet\n",
    "        self.efficientnet = models.efficientnet_b0(pretrained=True)\n",
    "        num_ftrs = self.efficientnet.classifier[1].in_features\n",
    "        self.efficientnet.classifier = nn.Identity()  \n",
    "        \n",
    "        self.patient_info_mlp = nn.Sequential(\n",
    "            nn.Linear(num_patient_features, 128),\n",
    "            nn.ReLU(),\n",
    "            nn.Dropout(0.5),\n",
    "            nn.Linear(128, 64)  \n",
    "        )\n",
    "        \n",
    "        self.classifier = nn.Sequential(\n",
    "            nn.Linear(num_ftrs + 64, 512),  \n",
    "            nn.ReLU(),\n",
    "            nn.Dropout(0.5),\n",
    "            nn.Linear(512, 1) \n",
    "        )\n",
    "        \n",
    "    def forward(self, images, patient_info):\n",
    "        # Process images through EfficientNet\n",
    "        img_features = torch.stack([self.efficientnet(img.unsqueeze(0)) for img in images]).mean(0)\n",
    "        \n",
    "        # Process patient info through MLP\n",
    "        patient_info_features = self.patient_info_mlp(patient_info)\n",
    "        \n",
    "        # Combine and classify\n",
    "        combined_features = torch.cat((img_features, patient_info_features), dim=1)\n",
    "        output = self.classifier(combined_features)\n",
    "        return output\n"
   ]
  },
  {
   "cell_type": "markdown",
   "id": "caba6b13",
   "metadata": {},
   "source": [
    "----\n",
    "----\n",
    "# <b> Do the training </b>"
   ]
  },
  {
   "cell_type": "code",
   "execution_count": 12,
   "id": "fee4175b",
   "metadata": {
    "execution": {
     "iopub.execute_input": "2024-03-25T18:51:37.468592Z",
     "iopub.status.busy": "2024-03-25T18:51:37.468314Z",
     "iopub.status.idle": "2024-03-25T18:51:38.775930Z",
     "shell.execute_reply": "2024-03-25T18:51:38.775115Z"
    },
    "papermill": {
     "duration": 1.319188,
     "end_time": "2024-03-25T18:51:38.778140",
     "exception": false,
     "start_time": "2024-03-25T18:51:37.458952",
     "status": "completed"
    },
    "tags": []
   },
   "outputs": [],
   "source": [
    "def train_and_validate(model, train_loader, val_loader, criterion, optimizer, num_epochs, device):\n",
    "    training_losses = []\n",
    "    validation_losses = []\n",
    "    validation_balanced_acc = []  \n",
    "    for epoch in range(num_epochs):\n",
    "        model.train()\n",
    "        total_train_loss = 0\n",
    "        for images, labels, patient_infos in train_loader:\n",
    "            images = [img.to(device) for img in images]\n",
    "            patient_infos_tensor = torch.stack([torch.tensor(list(info.values()), dtype=torch.float) for info in patient_infos]).to(device)\n",
    "            labels = labels.unsqueeze(1).float().to(device)  \n",
    "            optimizer.zero_grad()\n",
    "            outputs = model(images, patient_infos_tensor)\n",
    "            loss = criterion(outputs, labels)\n",
    "            loss.backward()\n",
    "            optimizer.step()\n",
    "\n",
    "            total_train_loss += loss.item()\n",
    "\n",
    "        avg_train_loss = total_train_loss / len(train_loader)\n",
    "        training_losses.append(avg_train_loss)\n",
    "\n",
    "        model.eval()\n",
    "        total_val_loss = 0\n",
    "        all_preds = []\n",
    "        all_labels = []\n",
    "        with torch.no_grad():\n",
    "            for images, labels, patient_infos in val_loader:\n",
    "                images = [img.to(device) for img in images]\n",
    "                patient_infos_tensor = torch.stack([torch.tensor(list(info.values()), dtype=torch.float) for info in patient_infos]).to(device)\n",
    "                labels = labels.unsqueeze(1).float().to(device)\n",
    "\n",
    "                outputs = model(images, patient_infos_tensor)\n",
    "\n",
    "                preds = torch.sigmoid(outputs).round()\n",
    "                preds_np = preds.squeeze().cpu().numpy()\n",
    "                labels_np = labels.squeeze().cpu().numpy()\n",
    "                \n",
    "                if preds_np.ndim == 0:\n",
    "                    preds_np = np.expand_dims(preds_np, 0)\n",
    "                if labels_np.ndim == 0:\n",
    "                    labels_np = np.expand_dims(labels_np, 0)\n",
    "\n",
    "                all_preds.extend(preds_np)\n",
    "                all_labels.extend(labels_np)\n",
    "\n",
    "                val_loss = criterion(outputs, labels)\n",
    "                total_val_loss += val_loss.item()\n",
    "\n",
    "            avg_val_loss = total_val_loss / len(val_loader)\n",
    "            validation_losses.append(avg_val_loss)\n",
    "\n",
    "            balanced_acc = balanced_accuracy_score(np.array(all_labels), np.array(all_preds))\n",
    "            validation_balanced_acc.append(balanced_acc)\n",
    "\n",
    "            print(f'Epoch [{epoch+1}/{num_epochs}], Training Loss: {avg_train_loss}, Validation Loss: {avg_val_loss}, Validation Balanced Acc: {balanced_acc}')\n",
    "\n",
    "    return training_losses, validation_losses, validation_balanced_acc\n"
   ]
  },
  {
   "cell_type": "code",
   "execution_count": null,
   "id": "807d94c1",
   "metadata": {},
   "outputs": [],
   "source": [
    "#change here paths\n",
    "csv_file = '/kaggle/input/dlmi-competition/trainset/trainset_true.csv'\n",
    "root_dir = '/kaggle/input/dlmi-competition/trainset'\n",
    "transform = transforms.Compose([\n",
    "    transforms.Resize((156, 156)),\n",
    "    transforms.ToTensor(),\n",
    "    transforms.Normalize(mean=[0.485, 0.456, 0.406], std=[0.229, 0.224, 0.225]),\n",
    "])\n",
    "\n",
    "train_dataset = PatientImagesDataset(root_dir=root_dir, csv_file=csv_file, transform=transform)\n"
   ]
  },
  {
   "cell_type": "code",
   "execution_count": 13,
   "id": "4f0d1dd4",
   "metadata": {
    "execution": {
     "iopub.execute_input": "2024-03-25T18:51:38.796908Z",
     "iopub.status.busy": "2024-03-25T18:51:38.796456Z",
     "iopub.status.idle": "2024-03-25T18:51:39.865918Z",
     "shell.execute_reply": "2024-03-25T18:51:39.865135Z"
    },
    "papermill": {
     "duration": 1.081368,
     "end_time": "2024-03-25T18:51:39.868249",
     "exception": false,
     "start_time": "2024-03-25T18:51:38.786881",
     "status": "completed"
    },
    "tags": []
   },
   "outputs": [],
   "source": [
    "train_dataset, val_dataset = custom_train_val_split(train_dataset, train_frac=0.8)\n",
    "\n",
    "train_loader = DataLoader(train_dataset, batch_size=1, shuffle=True, collate_fn=custom_collate_fn)\n",
    "val_loader = DataLoader(val_dataset, batch_size=1, shuffle=False, collate_fn=custom_collate_fn)\n"
   ]
  },
  {
   "cell_type": "code",
   "execution_count": 14,
   "id": "88745ee4",
   "metadata": {
    "execution": {
     "iopub.execute_input": "2024-03-25T18:51:39.886267Z",
     "iopub.status.busy": "2024-03-25T18:51:39.885700Z",
     "iopub.status.idle": "2024-03-25T18:51:40.599471Z",
     "shell.execute_reply": "2024-03-25T18:51:40.598712Z"
    },
    "papermill": {
     "duration": 0.72517,
     "end_time": "2024-03-25T18:51:40.601864",
     "exception": false,
     "start_time": "2024-03-25T18:51:39.876694",
     "status": "completed"
    },
    "tags": []
   },
   "outputs": [
    {
     "name": "stderr",
     "output_type": "stream",
     "text": [
      "/opt/conda/lib/python3.10/site-packages/torchvision/models/_utils.py:208: UserWarning: The parameter 'pretrained' is deprecated since 0.13 and may be removed in the future, please use 'weights' instead.\n",
      "  warnings.warn(\n",
      "/opt/conda/lib/python3.10/site-packages/torchvision/models/_utils.py:223: UserWarning: Arguments other than a weight enum or `None` for 'weights' are deprecated since 0.13 and may be removed in the future. The current behavior is equivalent to passing `weights=EfficientNet_B0_Weights.IMAGENET1K_V1`. You can also use `weights=EfficientNet_B0_Weights.DEFAULT` to get the most up-to-date weights.\n",
      "  warnings.warn(msg)\n",
      "Downloading: \"https://download.pytorch.org/models/efficientnet_b0_rwightman-7f5810bc.pth\" to /root/.cache/torch/hub/checkpoints/efficientnet_b0_rwightman-7f5810bc.pth\n",
      "100%|██████████| 20.5M/20.5M [00:00<00:00, 150MB/s]\n"
     ]
    }
   ],
   "source": [
    "device = torch.device(\"cuda\" if torch.cuda.is_available() else \"cpu\")\n",
    "\n",
    "\n",
    "num_patient_features = 3  \n",
    "model = MultiInstanceModelWithEfficientNet(num_patient_features=num_patient_features, output_dim=2).to(device)\n",
    "model = model.to(device)  \n",
    "\n",
    "criterion = torch.nn.BCEWithLogitsLoss() \n",
    "optimizer = torch.optim.Adam(model.parameters(), lr=0.001)\n",
    "\n",
    "num_epochs = 20 \n"
   ]
  },
  {
   "cell_type": "code",
   "execution_count": 15,
   "id": "9a82e6d2",
   "metadata": {
    "execution": {
     "iopub.execute_input": "2024-03-25T18:51:40.620960Z",
     "iopub.status.busy": "2024-03-25T18:51:40.620678Z",
     "iopub.status.idle": "2024-03-25T20:46:59.488010Z",
     "shell.execute_reply": "2024-03-25T20:46:59.487016Z"
    },
    "papermill": {
     "duration": 6918.891668,
     "end_time": "2024-03-25T20:46:59.502548",
     "exception": false,
     "start_time": "2024-03-25T18:51:40.610880",
     "status": "completed"
    },
    "tags": []
   },
   "outputs": [
    {
     "name": "stdout",
     "output_type": "stream",
     "text": [
      "Epoch [1/20], Training Loss: 0.962008172434459, Validation Loss: 0.9735651043506929, Validation Balanced Acc: 0.5\n",
      "Epoch [2/20], Training Loss: 0.8937750593424862, Validation Loss: 0.4563049437070508, Validation Balanced Acc: 0.5\n",
      "Epoch [3/20], Training Loss: 0.6139348217343407, Validation Loss: 0.38130583415674707, Validation Balanced Acc: 0.5\n",
      "Epoch [4/20], Training Loss: 0.8326529537265103, Validation Loss: 0.37785441903810296, Validation Balanced Acc: 0.835\n",
      "Epoch [5/20], Training Loss: 0.6952962168247716, Validation Loss: 0.3494442524995865, Validation Balanced Acc: 0.5625\n",
      "Epoch [6/20], Training Loss: 0.651602499628945, Validation Loss: 1.0405731831672187, Validation Balanced Acc: 0.72\n",
      "Epoch [7/20], Training Loss: 0.5495402268975614, Validation Loss: 0.3920512790844589, Validation Balanced Acc: 0.815\n",
      "Epoch [8/20], Training Loss: 0.5718292277616733, Validation Loss: 0.6531455234172895, Validation Balanced Acc: 0.76\n",
      "Epoch [9/20], Training Loss: 0.5224635055761, Validation Loss: 2.566747318605848, Validation Balanced Acc: 0.62\n",
      "Epoch [10/20], Training Loss: 0.524940789744246, Validation Loss: 0.5294538395281768, Validation Balanced Acc: 0.86\n",
      "Epoch [11/20], Training Loss: 0.5268074204308271, Validation Loss: 0.9696285176092219, Validation Balanced Acc: 0.74\n",
      "Epoch [12/20], Training Loss: 0.6470227632546606, Validation Loss: 0.3671368142047758, Validation Balanced Acc: 0.7925\n",
      "Epoch [13/20], Training Loss: 0.5185002675972537, Validation Loss: 0.40289027130891997, Validation Balanced Acc: 0.88\n",
      "Epoch [14/20], Training Loss: 0.4820491440935249, Validation Loss: 0.27496244284055693, Validation Balanced Acc: 0.835\n",
      "Epoch [15/20], Training Loss: 0.5056462206740522, Validation Loss: 0.3495630801086322, Validation Balanced Acc: 0.88\n",
      "Epoch [16/20], Training Loss: 0.5092450226824748, Validation Loss: 5.538689327853976, Validation Balanced Acc: 0.6\n",
      "Epoch [17/20], Training Loss: 0.5240565694250248, Validation Loss: 0.29899459530530537, Validation Balanced Acc: 0.7925\n",
      "Epoch [18/20], Training Loss: 0.5202382366021069, Validation Loss: 0.38130049539770194, Validation Balanced Acc: 0.775\n",
      "Epoch [19/20], Training Loss: 0.5241932772763344, Validation Loss: 0.38578700113430386, Validation Balanced Acc: 0.86\n",
      "Epoch [20/20], Training Loss: 0.4536832920937845, Validation Loss: 0.4502975089125164, Validation Balanced Acc: 0.8\n"
     ]
    }
   ],
   "source": [
    "training_losses, validation_losses, validation_balanced_acc = train_and_validate(\n",
    "    model, train_loader, val_loader, criterion, optimizer, num_epochs, device\n",
    ")"
   ]
  },
  {
   "cell_type": "code",
   "execution_count": 16,
   "id": "1d631ad0",
   "metadata": {
    "execution": {
     "iopub.execute_input": "2024-03-25T20:46:59.524997Z",
     "iopub.status.busy": "2024-03-25T20:46:59.524697Z",
     "iopub.status.idle": "2024-03-25T20:46:59.782423Z",
     "shell.execute_reply": "2024-03-25T20:46:59.781522Z"
    },
    "papermill": {
     "duration": 0.271579,
     "end_time": "2024-03-25T20:46:59.784395",
     "exception": false,
     "start_time": "2024-03-25T20:46:59.512816",
     "status": "completed"
    },
    "tags": []
   },
   "outputs": [
    {
     "data": {
      "image/png": "[encoded data removed]",
      "text/plain": [
       "<Figure size 1000x500 with 1 Axes>"
      ]
     },
     "metadata": {},
     "output_type": "display_data"
    }
   ],
   "source": [
    "# Plot training and validation losses\n",
    "plt.figure(figsize=(10, 5))\n",
    "plt.plot(training_losses, label='Training Loss')\n",
    "plt.plot(validation_losses, label='Validation Loss')\n",
    "plt.xlabel('Epoch')\n",
    "plt.ylabel('Loss')\n",
    "plt.title('Training and Validation Losses')\n",
    "plt.legend()\n",
    "plt.show()\n",
    "\n"
   ]
  },
  {
   "cell_type": "code",
   "execution_count": 17,
   "id": "feb33d58",
   "metadata": {
    "execution": {
     "iopub.execute_input": "2024-03-25T20:46:59.808467Z",
     "iopub.status.busy": "2024-03-25T20:46:59.807577Z",
     "iopub.status.idle": "2024-03-25T20:46:59.871857Z",
     "shell.execute_reply": "2024-03-25T20:46:59.870932Z"
    },
    "papermill": {
     "duration": 0.078514,
     "end_time": "2024-03-25T20:46:59.874156",
     "exception": false,
     "start_time": "2024-03-25T20:46:59.795642",
     "status": "completed"
    },
    "tags": []
   },
   "outputs": [],
   "source": [
    "torch.save(model.state_dict(), '/kaggle/working/multi_instance_model_state_dict_efficientnet.pth')\n"
   ]
  },
  {
   "cell_type": "markdown",
   "id": "e0841f5c",
   "metadata": {},
   "source": [
    "----\n",
    "----\n",
    "# <b> Do the testing </b>"
   ]
  },
  {
   "cell_type": "code",
   "execution_count": null,
   "id": "e98643c6",
   "metadata": {},
   "outputs": [],
   "source": [
    "class TestPatientImagesDataset(Dataset):\n",
    "    def __init__(self, root_dir, csv_file, transform=None):\n",
    "        self.root_dir = root_dir\n",
    "        self.csv_file = csv_file\n",
    "        self.transform = transform\n",
    "        self.patient_images = {}\n",
    "        self.patients_info = {}\n",
    "        self.df = pd.read_csv(csv_file)\n",
    "        self.df = self.csv_processing(self.df)\n",
    "        self.load_images()\n",
    "\n",
    "    def csv_processing(self, features):\n",
    "        if 'LABEL' in features.columns:\n",
    "            features = features.drop(columns=['LABEL'])\n",
    "\n",
    "        def calculate_age(born):\n",
    "            today = date.today()\n",
    "            try:\n",
    "                [day, month, year] = [int(i) for i in born.split(\"/\")]\n",
    "            except:\n",
    "                [day, month, year] = [int(i) for i in born.split(\"-\")]\n",
    "            return today.year - year - ((today.month, today.day) < (month, day))\n",
    "\n",
    "        features[\"DOB\"] = features[\"DOB\"].apply(calculate_age)  \n",
    "        features[\"GENDER\"] = features[\"GENDER\"].apply(lambda s: 0 if s == 'M' else 1)\n",
    "        return features\n",
    "\n",
    "\n",
    "    def load_images(self):\n",
    "        for _, row in self.df.iterrows():\n",
    "            patient_id = row['ID']\n",
    "            patient_folder = os.path.join(self.root_dir, patient_id)\n",
    "            self.patient_images[patient_id] = []  \n",
    "            if os.path.isdir(patient_folder):\n",
    "                for img_filename in os.listdir(patient_folder):\n",
    "                    img_path = os.path.join(patient_folder, img_filename)\n",
    "                    self.patient_images[patient_id].append(img_path)\n",
    "                    self.patients_info[img_path] = row.to_dict()\n",
    "\n",
    "    def __len__(self):\n",
    "        return len(self.df)\n",
    "\n",
    "    def __getitem__(self, idx):\n",
    "        patient_id = self.df.iloc[idx]['ID']\n",
    "        patient_data = self.df.iloc[idx].to_dict()\n",
    "        images = [Image.open(img_path).convert('RGB') for img_path in self.patient_images[patient_id]]\n",
    "        if self.transform:\n",
    "            images = [self.transform(image) for image in images]\n",
    "        patient_info = {key: patient_data[key] for key in patient_data if key not in ['ID']}\n",
    "        return images, patient_info, patient_id"
   ]
  },
  {
   "cell_type": "code",
   "execution_count": null,
   "id": "a26c7d27",
   "metadata": {},
   "outputs": [],
   "source": [
    "test_dataset = TestPatientImagesDataset(\n",
    "    root_dir='/kaggle/input/dlmi-competition/testset', \n",
    "    csv_file='/kaggle/input/dlmi-competition/testset/testset_data.csv', \n",
    "    transform=transform\n",
    ")\n",
    "\n",
    "test_loader = DataLoader(test_dataset, batch_size=1, shuffle=False, collate_fn=custom_collate_fn)"
   ]
  },
  {
   "cell_type": "code",
   "execution_count": null,
   "id": "c9e1dc54",
   "metadata": {},
   "outputs": [],
   "source": [
    "# Load the saved model weights if not trained in the current session\n",
    "#model_path = ''\n",
    "#model.load_state_dict(torch.load(model_path, map_location=device))\n",
    "\n",
    "# Set the model to evaluation mode\n",
    "model.eval()\n"
   ]
  },
  {
   "cell_type": "code",
   "execution_count": null,
   "id": "2a028608",
   "metadata": {},
   "outputs": [],
   "source": [
    "predictions = []\n",
    "\n",
    "with torch.no_grad():\n",
    "    for images, patient_infos, patient_ids in test_loader:\n",
    "        images = images.to(device)\n",
    "        \n",
    "    \n",
    "        if isinstance(patient_infos, dict):  \n",
    "            patient_infos = [patient_infos]  \n",
    "        patient_infos_tensor = torch.tensor([list(info.values()) for info in patient_infos], dtype=torch.float).to(device)\n",
    "        \n",
    "        assert patient_infos_tensor.shape[1] == 3, \"Incorrect number of patient features\"\n",
    "\n",
    "        output = model(images, patient_infos_tensor)\n",
    "\n",
    "        pred = torch.sigmoid(output).mean().item() > 0.5 \n",
    "        patient_id = patient_ids[0] if isinstance(patient_ids, (list, torch.Tensor)) else patient_ids\n",
    "        predictions.append([patient_id, int(pred)])\n",
    "\n",
    "\n",
    "submission_df= pd.DataFrame(predictions, columns=['Id', 'Predicted'])\n"
   ]
  },
  {
   "cell_type": "code",
   "execution_count": null,
   "id": "b93ee04e",
   "metadata": {},
   "outputs": [],
   "source": [
    "# Convert predictions to DataFrame and save to CSV for submission\n",
    "submission_df = pd.DataFrame(predictions, columns=['Id', 'Predicted'])\n",
    "submission_df.to_csv('/kaggle/working/submission.csv', index=False)\n"
   ]
  }
 ],
 "metadata": {
  "kaggle": {
   "accelerator": "nvidiaTeslaT4",
   "dataSources": [
    {
     "datasetId": 4642311,
     "sourceId": 7903829,
     "sourceType": "datasetVersion"
    }
   ],
   "dockerImageVersionId": 30674,
   "isGpuEnabled": true,
   "isInternetEnabled": true,
   "language": "python",
   "sourceType": "notebook"
  },
  "kernelspec": {
   "display_name": "Python 3",
   "language": "python",
   "name": "python3"
  },
  "language_info": {
   "codemirror_mode": {
    "name": "ipython",
    "version": 3
   },
   "file_extension": ".py",
   "mimetype": "text/x-python",
   "name": "python",
   "nbconvert_exporter": "python",
   "pygments_lexer": "ipython3",
   "version": "3.10.13"
  },
  "papermill": {
   "default_parameters": {},
   "duration": 6938.248996,
   "end_time": "2024-03-25T20:47:01.823296",
   "environment_variables": {},
   "exception": null,
   "input_path": "__notebook__.ipynb",
   "output_path": "__notebook__.ipynb",
   "parameters": {},
   "start_time": "2024-03-25T18:51:23.574300",
   "version": "2.5.0"
  }
 },
 "nbformat": 4,
 "nbformat_minor": 5
}
