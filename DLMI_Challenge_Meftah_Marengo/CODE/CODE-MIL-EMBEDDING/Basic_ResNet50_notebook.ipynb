{
 "cells": [
  {
   "cell_type": "markdown",
   "id": "e4f2c83b",
   "metadata": {},
   "source": [
    "----\n",
    "----\n",
    "# <b> DLMI Challenge </b>\n",
    "# <b> BASIC ResNet50 MIL training </b>\n",
    "# <b> Matteo MARENGO | matteo.marengo@ens-paris-saclay.fr </b>\n",
    "# <b> Manal MEFTAH | manal.meftah@ens-paris-saclay.fr </b>"
   ]
  },
  {
   "cell_type": "markdown",
   "id": "5f95e2b9",
   "metadata": {},
   "source": [
    "----\n",
    "----\n",
    "# <b> Import libraries </b>"
   ]
  },
  {
   "cell_type": "code",
   "execution_count": 1,
   "id": "c5992e82",
   "metadata": {
    "execution": {
     "iopub.execute_input": "2024-03-25T11:13:37.696791Z",
     "iopub.status.busy": "2024-03-25T11:13:37.696307Z",
     "iopub.status.idle": "2024-03-25T11:13:46.876451Z",
     "shell.execute_reply": "2024-03-25T11:13:46.875545Z"
    },
    "papermill": {
     "duration": 9.190389,
     "end_time": "2024-03-25T11:13:46.879082",
     "exception": false,
     "start_time": "2024-03-25T11:13:37.688693",
     "status": "completed"
    },
    "tags": []
   },
   "outputs": [],
   "source": [
    "# Import libraries\n",
    "import numpy as np\n",
    "import pandas as pd\n",
    "import torch\n",
    "import os\n",
    "from datetime import date\n",
    "from PIL import Image\n",
    "from torch.utils.data import Dataset, DataLoader, Sampler\n",
    "from torchvision import models, transforms\n",
    "from torch.nn import nn\n",
    "from torch.utils.data.dataloader import default_collate\n",
    "from sklearn.metrics import balanced_accuracy_score\n",
    "import torch.optim as optim\n",
    "import matplotlib.pyplot as plt"
   ]
  },
  {
   "cell_type": "markdown",
   "id": "8789c802",
   "metadata": {},
   "source": [
    "----\n",
    "----\n",
    "# <b> Load the model </b>"
   ]
  },
  {
   "cell_type": "code",
   "execution_count": null,
   "id": "c258cefe",
   "metadata": {},
   "outputs": [],
   "source": [
    "class PatientImagesDataset(Dataset):\n",
    "    def __init__(self, root_dir, csv_file, transform=None):\n",
    "        self.root_dir = root_dir\n",
    "        self.csv_file = csv_file  \n",
    "        self.transform = transform\n",
    "        self.patient_images = {}  \n",
    "        self.patients_info = {}\n",
    "        self.df = pd.read_csv(csv_file)\n",
    "        self.df = self.csv_processing(self.df)\n",
    "        self.load_images()\n",
    "  \n",
    "\n",
    "    def csv_processing(self, features):\n",
    "        def calculate_age(born):\n",
    "            today = date.today()\n",
    "            try:\n",
    "                [day, month, year] = [int(i) for i in born.split(\"/\")]\n",
    "            except:\n",
    "                [day, month, year] = [int(i) for i in born.split(\"-\")]\n",
    "            return today.year - year - ((today.month, today.day) < (month, day))\n",
    "\n",
    "        features[\"DOB\"] = features[\"DOB\"].apply(calculate_age)  \n",
    "        features[\"GENDER\"] = features[\"GENDER\"].apply(lambda s: 0 if s == 'M' else 1)\n",
    "        return features\n",
    "\n",
    "\n",
    "    def load_images(self):\n",
    "        for _, row in self.df.iterrows():\n",
    "            patient_id = row['ID']\n",
    "            patient_folder = os.path.join(self.root_dir, patient_id)\n",
    "            self.patient_images[patient_id] = []  \n",
    "            if os.path.isdir(patient_folder):\n",
    "                for img_filename in os.listdir(patient_folder):\n",
    "                    img_path = os.path.join(patient_folder, img_filename)\n",
    "                    self.patient_images[patient_id].append(img_path)\n",
    "                    self.patients_info[img_path] = row.to_dict()\n",
    "\n",
    "    def __len__(self):\n",
    "        return len(self.df)  \n",
    "    \n",
    "    def __getitem__(self, idx):\n",
    "        patient_id = self.df.iloc[idx]['ID']\n",
    "        patient_data = self.df.iloc[idx].to_dict()\n",
    "        images = [Image.open(img_path).convert('RGB') for img_path in self.patient_images[patient_id]]\n",
    "        if self.transform:\n",
    "            images = [self.transform(image) for image in images]\n",
    "        label = patient_data['LABEL']\n",
    "        patient_info = {key: patient_data[key] for key in patient_data if key not in ['ID', 'LABEL']}\n",
    "        return images, label, patient_info\n"
   ]
  },
  {
   "cell_type": "code",
   "execution_count": null,
   "id": "ed550e1a",
   "metadata": {},
   "outputs": [],
   "source": [
    "def custom_train_val_split(dataset, train_frac=0.8):\n",
    "    patient_ids = list(dataset.patient_images.keys())\n",
    "    total_patients = len(patient_ids)\n",
    "    \n",
    "    train_patient_ids = set(np.random.choice(patient_ids, int(train_frac * total_patients), replace=False))\n",
    "    val_patient_ids = set(patient_ids) - train_patient_ids\n",
    "    \n",
    "    train_df = dataset.df[dataset.df['ID'].isin(train_patient_ids)].reset_index(drop=True)\n",
    "    val_df = dataset.df[dataset.df['ID'].isin(val_patient_ids)].reset_index(drop=True)\n",
    "\n",
    "    train_dataset = PatientImagesDataset(dataset.root_dir, dataset.csv_file, dataset.transform)\n",
    "    train_dataset.df = train_df\n",
    "    train_dataset.load_images()  \n",
    "\n",
    "    val_dataset = PatientImagesDataset(dataset.root_dir, dataset.csv_file, dataset.transform)\n",
    "    val_dataset.df = val_df\n",
    "    val_dataset.load_images()  \n",
    "\n",
    "    return train_dataset, val_dataset\n",
    "\n",
    "\n",
    "\n",
    "def custom_collate_fn(batch):\n",
    "    images_flattened = [image for batch_item in batch for image in batch_item[0]]\n",
    "    labels = torch.tensor([item[1] for item in batch])\n",
    "    patient_infos = [item[2] for item in batch]\n",
    "    images_collated = default_collate(images_flattened)\n",
    "        \n",
    "    return images_collated, labels, patient_infos"
   ]
  },
  {
   "cell_type": "code",
   "execution_count": null,
   "id": "47c16a13",
   "metadata": {},
   "outputs": [],
   "source": [
    "\n",
    "class MultiInstanceModel(nn.Module):\n",
    "    def __init__(self, num_patient_features, output_dim=2):\n",
    "        super(MultiInstanceModel, self).__init__()\n",
    "        # Load a pre-trained model\n",
    "        self.resnet = models.resnet50(pretrained=True)\n",
    "        num_ftrs = self.resnet.fc.in_features\n",
    "        self.resnet.fc = nn.Identity() \n",
    "        \n",
    "        self.patient_info_layer = nn.Linear(num_patient_features, 128)\n",
    "        \n",
    "        self.classifier = nn.Sequential(\n",
    "            nn.Linear(num_ftrs + 128, 512),\n",
    "            nn.ReLU(),\n",
    "            nn.Dropout(0.5),\n",
    "            nn.Linear(512, 1)\n",
    "        )\n",
    "        \n",
    "    def forward(self, images, patient_info):\n",
    "        img_features = torch.stack([self.resnet(img.unsqueeze(0)) for img in images]).mean(0)\n",
    "        \n",
    "        patient_info_features = self.patient_info_layer(patient_info)\n",
    "        \n",
    "        combined_features = torch.cat((img_features, patient_info_features), dim=1)\n",
    "        output = self.classifier(combined_features)\n",
    "        return output\n"
   ]
  },
  {
   "cell_type": "markdown",
   "id": "23703fb2",
   "metadata": {},
   "source": [
    "----\n",
    "----\n",
    "# <b> Do the training </b>"
   ]
  },
  {
   "cell_type": "code",
   "execution_count": 12,
   "id": "b5d9f726",
   "metadata": {
    "execution": {
     "iopub.execute_input": "2024-03-25T11:13:51.690557Z",
     "iopub.status.busy": "2024-03-25T11:13:51.689922Z",
     "iopub.status.idle": "2024-03-25T11:13:53.317096Z",
     "shell.execute_reply": "2024-03-25T11:13:53.316320Z"
    },
    "papermill": {
     "duration": 1.639062,
     "end_time": "2024-03-25T11:13:53.319409",
     "exception": false,
     "start_time": "2024-03-25T11:13:51.680347",
     "status": "completed"
    },
    "tags": []
   },
   "outputs": [],
   "source": [
    "def train_and_validate(model, train_loader, val_loader, criterion, optimizer, num_epochs, device):\n",
    "    training_losses = []\n",
    "    validation_losses = []\n",
    "    validation_balanced_acc = []  \n",
    "    for epoch in range(num_epochs):\n",
    "        model.train()\n",
    "        total_train_loss = 0\n",
    "        for images, labels, patient_infos in train_loader:\n",
    "            images = [img.to(device) for img in images]\n",
    "            patient_infos_tensor = torch.stack([torch.tensor(list(info.values()), dtype=torch.float) for info in patient_infos]).to(device)\n",
    "            labels = labels.unsqueeze(1).float().to(device)  \n",
    "\n",
    "            optimizer.zero_grad()\n",
    "            outputs = model(images, patient_infos_tensor)\n",
    "            loss = criterion(outputs, labels)\n",
    "            loss.backward()\n",
    "            optimizer.step()\n",
    "\n",
    "            total_train_loss += loss.item()\n",
    "\n",
    "        avg_train_loss = total_train_loss / len(train_loader)\n",
    "        training_losses.append(avg_train_loss)\n",
    "\n",
    "        # Validation phase\n",
    "        model.eval()\n",
    "        total_val_loss = 0\n",
    "        all_preds = []\n",
    "        all_labels = []\n",
    "        with torch.no_grad():\n",
    "            for images, labels, patient_infos in val_loader:\n",
    "                images = [img.to(device) for img in images]\n",
    "                patient_infos_tensor = torch.stack([torch.tensor(list(info.values()), dtype=torch.float) for info in patient_infos]).to(device)\n",
    "                labels = labels.unsqueeze(1).float().to(device)\n",
    "\n",
    "                outputs = model(images, patient_infos_tensor)\n",
    "\n",
    "                preds = torch.sigmoid(outputs).round()\n",
    "                preds_np = preds.squeeze().cpu().numpy()\n",
    "                labels_np = labels.squeeze().cpu().numpy()\n",
    "                \n",
    "                if preds_np.ndim == 0:\n",
    "                    preds_np = np.expand_dims(preds_np, 0)\n",
    "                if labels_np.ndim == 0:\n",
    "                    labels_np = np.expand_dims(labels_np, 0)\n",
    "\n",
    "                all_preds.extend(preds_np)\n",
    "                all_labels.extend(labels_np)\n",
    "\n",
    "                val_loss = criterion(outputs, labels)\n",
    "                total_val_loss += val_loss.item()\n",
    "\n",
    "            avg_val_loss = total_val_loss / len(val_loader)\n",
    "            validation_losses.append(avg_val_loss)\n",
    "\n",
    "            balanced_acc = balanced_accuracy_score(np.array(all_labels), np.array(all_preds))\n",
    "            validation_balanced_acc.append(balanced_acc)\n",
    "\n",
    "            print(f'Epoch [{epoch+1}/{num_epochs}], Training Loss: {avg_train_loss}, Validation Loss: {avg_val_loss}, Validation Balanced Acc: {balanced_acc}')\n",
    "\n",
    "    return training_losses, validation_losses, validation_balanced_acc\n"
   ]
  },
  {
   "cell_type": "code",
   "execution_count": null,
   "id": "2bcaa041",
   "metadata": {},
   "outputs": [],
   "source": [
    "csv_file = '/kaggle/input/dlmi-competition/trainset/trainset_true.csv'\n",
    "root_dir = '/kaggle/input/dlmi-competition/trainset'\n",
    "transform = transforms.Compose([\n",
    "    transforms.Resize((156, 156)),\n",
    "    transforms.ToTensor(),\n",
    "    transforms.Normalize(mean=[0.485, 0.456, 0.406], std=[0.229, 0.224, 0.225]),\n",
    "])\n",
    "\n",
    "train_dataset = PatientImagesDataset(root_dir=root_dir, csv_file=csv_file, transform=transform)\n"
   ]
  },
  {
   "cell_type": "code",
   "execution_count": 13,
   "id": "4b57a46a",
   "metadata": {
    "execution": {
     "iopub.execute_input": "2024-03-25T11:13:53.337967Z",
     "iopub.status.busy": "2024-03-25T11:13:53.337125Z",
     "iopub.status.idle": "2024-03-25T11:13:54.585428Z",
     "shell.execute_reply": "2024-03-25T11:13:54.584399Z"
    },
    "papermill": {
     "duration": 1.259933,
     "end_time": "2024-03-25T11:13:54.587932",
     "exception": false,
     "start_time": "2024-03-25T11:13:53.327999",
     "status": "completed"
    },
    "tags": []
   },
   "outputs": [],
   "source": [
    "train_dataset, val_dataset = custom_train_val_split(train_dataset, train_frac=0.8)\n",
    "\n",
    "train_loader = DataLoader(train_dataset, batch_size=1, shuffle=True, collate_fn=custom_collate_fn)\n",
    "val_loader = DataLoader(val_dataset, batch_size=1, shuffle=False, collate_fn=custom_collate_fn)\n"
   ]
  },
  {
   "cell_type": "code",
   "execution_count": 14,
   "id": "570b1561",
   "metadata": {
    "execution": {
     "iopub.execute_input": "2024-03-25T11:13:54.607318Z",
     "iopub.status.busy": "2024-03-25T11:13:54.606977Z",
     "iopub.status.idle": "2024-03-25T11:13:56.326633Z",
     "shell.execute_reply": "2024-03-25T11:13:56.325834Z"
    },
    "papermill": {
     "duration": 1.732102,
     "end_time": "2024-03-25T11:13:56.328924",
     "exception": false,
     "start_time": "2024-03-25T11:13:54.596822",
     "status": "completed"
    },
    "tags": []
   },
   "outputs": [
    {
     "name": "stderr",
     "output_type": "stream",
     "text": [
      "/opt/conda/lib/python3.10/site-packages/torchvision/models/_utils.py:208: UserWarning: The parameter 'pretrained' is deprecated since 0.13 and may be removed in the future, please use 'weights' instead.\n",
      "  warnings.warn(\n",
      "/opt/conda/lib/python3.10/site-packages/torchvision/models/_utils.py:223: UserWarning: Arguments other than a weight enum or `None` for 'weights' are deprecated since 0.13 and may be removed in the future. The current behavior is equivalent to passing `weights=ResNet50_Weights.IMAGENET1K_V1`. You can also use `weights=ResNet50_Weights.DEFAULT` to get the most up-to-date weights.\n",
      "  warnings.warn(msg)\n",
      "Downloading: \"https://download.pytorch.org/models/resnet50-0676ba61.pth\" to /root/.cache/torch/hub/checkpoints/resnet50-0676ba61.pth\n",
      "100%|██████████| 97.8M/97.8M [00:00<00:00, 157MB/s]\n"
     ]
    }
   ],
   "source": [
    "device = torch.device(\"cuda\" if torch.cuda.is_available() else \"cpu\")\n",
    "\n",
    "\n",
    "num_patient_features = 3  \n",
    "model = MultiInstanceModel(num_patient_features=num_patient_features, output_dim=2).to(device)\n",
    "model = model.to(device)  \n",
    "\n",
    "criterion = torch.nn.BCEWithLogitsLoss()  \n",
    "optimizer = torch.optim.Adam(model.parameters(), lr=0.001)\n",
    "\n",
    "\n",
    "num_epochs = 20 \n"
   ]
  },
  {
   "cell_type": "code",
   "execution_count": 15,
   "id": "931f7747",
   "metadata": {
    "execution": {
     "iopub.execute_input": "2024-03-25T11:13:56.349144Z",
     "iopub.status.busy": "2024-03-25T11:13:56.348829Z",
     "iopub.status.idle": "2024-03-25T12:42:04.304961Z",
     "shell.execute_reply": "2024-03-25T12:42:04.304003Z"
    },
    "papermill": {
     "duration": 5287.979205,
     "end_time": "2024-03-25T12:42:04.317802",
     "exception": false,
     "start_time": "2024-03-25T11:13:56.338597",
     "status": "completed"
    },
    "tags": []
   },
   "outputs": [
    {
     "name": "stdout",
     "output_type": "stream",
     "text": [
      "Epoch [1/20], Training Loss: 2.449295668725288, Validation Loss: 0.3940919042074573, Validation Balanced Acc: 0.7638888888888888\n",
      "Epoch [2/20], Training Loss: 1.1608718007714314, Validation Loss: 0.37876203946926223, Validation Balanced Acc: 0.5\n",
      "Epoch [3/20], Training Loss: 0.5300465972909163, Validation Loss: 0.38449209413374774, Validation Balanced Acc: 0.8541666666666667\n",
      "Epoch [4/20], Training Loss: 0.5772968406715021, Validation Loss: 0.3589660676203273, Validation Balanced Acc: 0.8125\n",
      "Epoch [5/20], Training Loss: 0.48037459093565427, Validation Loss: 0.8393901405358906, Validation Balanced Acc: 0.5\n",
      "Epoch [6/20], Training Loss: 0.5300761187332984, Validation Loss: 0.6506718434289365, Validation Balanced Acc: 0.5\n",
      "Epoch [7/20], Training Loss: 0.46093911107344027, Validation Loss: 0.33521073671561846, Validation Balanced Acc: 0.7222222222222222\n",
      "Epoch [8/20], Training Loss: 0.4443418047628392, Validation Loss: 0.4395863997739401, Validation Balanced Acc: 0.7916666666666667\n",
      "Epoch [9/20], Training Loss: 0.4275654855642966, Validation Loss: 0.2823508744487767, Validation Balanced Acc: 0.7222222222222222\n",
      "Epoch [10/20], Training Loss: 0.4214785409479847, Validation Loss: 0.38156931402641986, Validation Balanced Acc: 0.8541666666666667\n",
      "Epoch [11/20], Training Loss: 0.45197766423493746, Validation Loss: 0.38500144181795226, Validation Balanced Acc: 0.8402777777777777\n",
      "Epoch [12/20], Training Loss: 0.43933491967125043, Validation Loss: 0.33100948528877006, Validation Balanced Acc: 0.8472222222222222\n",
      "Epoch [13/20], Training Loss: 0.41761153537680595, Validation Loss: 0.3654294318604963, Validation Balanced Acc: 0.875\n",
      "Epoch [14/20], Training Loss: 0.4576312768973366, Validation Loss: 0.4721534723735014, Validation Balanced Acc: 0.7916666666666667\n",
      "Epoch [15/20], Training Loss: 0.39236142446319927, Validation Loss: 0.3546563141572306, Validation Balanced Acc: 0.8611111111111112\n",
      "Epoch [16/20], Training Loss: 0.37128932472228654, Validation Loss: 0.2923828944505144, Validation Balanced Acc: 0.8611111111111112\n",
      "Epoch [17/20], Training Loss: 0.3924770073641744, Validation Loss: 0.29352243467832445, Validation Balanced Acc: 0.7222222222222222\n",
      "Epoch [18/20], Training Loss: 0.4230979594427608, Validation Loss: 0.2792983366348518, Validation Balanced Acc: 0.8125\n",
      "Epoch [19/20], Training Loss: 0.33494472826976984, Validation Loss: 0.2630079249849835, Validation Balanced Acc: 0.7916666666666666\n",
      "Epoch [20/20], Training Loss: 0.37749142568979643, Validation Loss: 0.2625793765082425, Validation Balanced Acc: 0.8472222222222222\n"
     ]
    }
   ],
   "source": [
    "training_losses, validation_losses, validation_balanced_acc = train_and_validate(\n",
    "    model, train_loader, val_loader, criterion, optimizer, num_epochs, device\n",
    ")"
   ]
  },
  {
   "cell_type": "code",
   "execution_count": 16,
   "id": "78c4708b",
   "metadata": {
    "execution": {
     "iopub.execute_input": "2024-03-25T12:42:04.340706Z",
     "iopub.status.busy": "2024-03-25T12:42:04.340401Z",
     "iopub.status.idle": "2024-03-25T12:42:04.661401Z",
     "shell.execute_reply": "2024-03-25T12:42:04.660428Z"
    },
    "papermill": {
     "duration": 0.334926,
     "end_time": "2024-03-25T12:42:04.663448",
     "exception": false,
     "start_time": "2024-03-25T12:42:04.328522",
     "status": "completed"
    },
    "tags": []
   },
   "outputs": [
    {
     "data": {
      "image/png": "[encoded data removed]",
      "text/plain": [
       "<Figure size 1000x500 with 1 Axes>"
      ]
     },
     "metadata": {},
     "output_type": "display_data"
    }
   ],
   "source": [
    "# Plot training and validation losses\n",
    "plt.figure(figsize=(10, 5))\n",
    "plt.plot(training_losses, label='Training Loss')\n",
    "plt.plot(validation_losses, label='Validation Loss')\n",
    "plt.xlabel('Epoch')\n",
    "plt.ylabel('Loss')\n",
    "plt.title('Training and Validation Losses')\n",
    "plt.legend()\n",
    "plt.show()\n",
    "\n"
   ]
  },
  {
   "cell_type": "code",
   "execution_count": 17,
   "id": "71b8605c",
   "metadata": {
    "execution": {
     "iopub.execute_input": "2024-03-25T12:42:04.689342Z",
     "iopub.status.busy": "2024-03-25T12:42:04.689038Z",
     "iopub.status.idle": "2024-03-25T12:42:04.849035Z",
     "shell.execute_reply": "2024-03-25T12:42:04.848129Z"
    },
    "papermill": {
     "duration": 0.175942,
     "end_time": "2024-03-25T12:42:04.851724",
     "exception": false,
     "start_time": "2024-03-25T12:42:04.675782",
     "status": "completed"
    },
    "tags": []
   },
   "outputs": [],
   "source": [
    "torch.save(model.state_dict(), '/kaggle/working/multi_instance_model_state_dict_resnet50.pth')\n"
   ]
  },
  {
   "cell_type": "markdown",
   "id": "75eeb9f5",
   "metadata": {},
   "source": [
    "----\n",
    "----\n",
    "# <b> Do the testing </b>"
   ]
  },
  {
   "cell_type": "code",
   "execution_count": null,
   "id": "5f3dfdef",
   "metadata": {},
   "outputs": [],
   "source": [
    "class TestPatientImagesDataset(Dataset):\n",
    "    def __init__(self, root_dir, csv_file, transform=None):\n",
    "        self.root_dir = root_dir\n",
    "        self.csv_file = csv_file\n",
    "        self.transform = transform\n",
    "        self.patient_images = {}\n",
    "        self.patients_info = {}\n",
    "        self.df = pd.read_csv(csv_file)\n",
    "        self.df = self.csv_processing(self.df)\n",
    "        self.load_images()\n",
    "\n",
    "    def csv_processing(self, features):\n",
    "        if 'LABEL' in features.columns:\n",
    "            features = features.drop(columns=['LABEL'])\n",
    "\n",
    "        def calculate_age(born):\n",
    "            today = date.today()\n",
    "            try:\n",
    "                [day, month, year] = [int(i) for i in born.split(\"/\")]\n",
    "            except:\n",
    "                [day, month, year] = [int(i) for i in born.split(\"-\")]\n",
    "            return today.year - year - ((today.month, today.day) < (month, day))\n",
    "\n",
    "        features[\"DOB\"] = features[\"DOB\"].apply(calculate_age)  \n",
    "        features[\"GENDER\"] = features[\"GENDER\"].apply(lambda s: 0 if s == 'M' else 1)\n",
    "        return features\n",
    "\n",
    "\n",
    "    def load_images(self):\n",
    "        for _, row in self.df.iterrows():\n",
    "            patient_id = row['ID']\n",
    "            patient_folder = os.path.join(self.root_dir, patient_id)\n",
    "            self.patient_images[patient_id] = []  \n",
    "            if os.path.isdir(patient_folder):\n",
    "                for img_filename in os.listdir(patient_folder):\n",
    "                    img_path = os.path.join(patient_folder, img_filename)\n",
    "                    self.patient_images[patient_id].append(img_path)\n",
    "                    self.patients_info[img_path] = row.to_dict()\n",
    "\n",
    "    def __len__(self):\n",
    "        return len(self.df)\n",
    "\n",
    "    def __getitem__(self, idx):\n",
    "        patient_id = self.df.iloc[idx]['ID']\n",
    "        patient_data = self.df.iloc[idx].to_dict()\n",
    "        images = [Image.open(img_path).convert('RGB') for img_path in self.patient_images[patient_id]]\n",
    "        if self.transform:\n",
    "            images = [self.transform(image) for image in images]\n",
    "        patient_info = {key: patient_data[key] for key in patient_data if key not in ['ID']}\n",
    "        return images, patient_info, patient_id"
   ]
  },
  {
   "cell_type": "code",
   "execution_count": null,
   "id": "8b559ad3",
   "metadata": {},
   "outputs": [],
   "source": [
    "test_dataset = TestPatientImagesDataset(\n",
    "    root_dir='/kaggle/input/dlmi-competition/testset', \n",
    "    csv_file='/kaggle/input/dlmi-competition/testset/testset_data.csv', \n",
    "    transform=transform\n",
    ")\n",
    "\n",
    "test_loader = DataLoader(test_dataset, batch_size=1, shuffle=False, collate_fn=custom_collate_fn)"
   ]
  },
  {
   "cell_type": "code",
   "execution_count": null,
   "id": "05e1433d",
   "metadata": {},
   "outputs": [],
   "source": [
    "# Load the saved model weights if not trained in the current session\n",
    "#model_path = ''\n",
    "#model.load_state_dict(torch.load(model_path, map_location=device))\n",
    "\n",
    "# Set the model to evaluation mode\n",
    "model.eval()\n"
   ]
  },
  {
   "cell_type": "code",
   "execution_count": null,
   "id": "77f5cab7",
   "metadata": {},
   "outputs": [],
   "source": [
    "predictions = []\n",
    "\n",
    "with torch.no_grad():\n",
    "    for images, patient_infos, patient_ids in test_loader:\n",
    "        images = images.to(device)\n",
    "        \n",
    "    \n",
    "        if isinstance(patient_infos, dict):  \n",
    "            patient_infos = [patient_infos]  \n",
    "        patient_infos_tensor = torch.tensor([list(info.values()) for info in patient_infos], dtype=torch.float).to(device)\n",
    "        \n",
    "        assert patient_infos_tensor.shape[1] == 3, \"Incorrect number of patient features\"\n",
    "\n",
    "        output = model(images, patient_infos_tensor)\n",
    "\n",
    "        pred = torch.sigmoid(output).mean().item() > 0.5 \n",
    "        patient_id = patient_ids[0] if isinstance(patient_ids, (list, torch.Tensor)) else patient_ids\n",
    "        predictions.append([patient_id, int(pred)])\n",
    "\n",
    "\n",
    "submission_df= pd.DataFrame(predictions, columns=['Id', 'Predicted'])\n"
   ]
  },
  {
   "cell_type": "code",
   "execution_count": null,
   "id": "ba477dc1",
   "metadata": {},
   "outputs": [],
   "source": [
    "# Convert predictions to DataFrame and save to CSV for submission\n",
    "submission_df = pd.DataFrame(predictions, columns=['Id', 'Predicted'])\n",
    "submission_df.to_csv('/kaggle/working/submission.csv', index=False)\n"
   ]
  }
 ],
 "metadata": {
  "kaggle": {
   "accelerator": "nvidiaTeslaT4",
   "dataSources": [
    {
     "datasetId": 4642311,
     "sourceId": 7903829,
     "sourceType": "datasetVersion"
    }
   ],
   "dockerImageVersionId": 30673,
   "isGpuEnabled": true,
   "isInternetEnabled": true,
   "language": "python",
   "sourceType": "notebook"
  },
  "kernelspec": {
   "display_name": "Python 3",
   "language": "python",
   "name": "python3"
  },
  "language_info": {
   "codemirror_mode": {
    "name": "ipython",
    "version": 3
   },
   "file_extension": ".py",
   "mimetype": "text/x-python",
   "name": "python",
   "nbconvert_exporter": "python",
   "pygments_lexer": "ipython3",
   "version": "3.10.13"
  },
  "papermill": {
   "default_parameters": {},
   "duration": 5312.750074,
   "end_time": "2024-03-25T12:42:07.237192",
   "environment_variables": {},
   "exception": null,
   "input_path": "__notebook__.ipynb",
   "output_path": "__notebook__.ipynb",
   "parameters": {},
   "start_time": "2024-03-25T11:13:34.487118",
   "version": "2.5.0"
  }
 },
 "nbformat": 4,
 "nbformat_minor": 5
}
