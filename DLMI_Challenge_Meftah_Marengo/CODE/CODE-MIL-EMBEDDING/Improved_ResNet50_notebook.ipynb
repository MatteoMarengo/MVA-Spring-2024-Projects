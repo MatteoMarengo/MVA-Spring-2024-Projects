{
 "cells": [
  {
   "cell_type": "markdown",
   "id": "ccb693ae",
   "metadata": {},
   "source": [
    "----\n",
    "----\n",
    "# <b> DLMI Challenge </b>\n",
    "# <b> Improved ResNet50 MIL training </b>\n",
    "# <b> Matteo MARENGO | matteo.marengo@ens-paris-saclay.fr </b>\n",
    "# <b> Manal MEFTAH | manal.meftah@ens-paris-saclay.fr </b>"
   ]
  },
  {
   "cell_type": "markdown",
   "id": "009f36ec",
   "metadata": {},
   "source": [
    "----\n",
    "----\n",
    "# <b> Import libraries </b>"
   ]
  },
  {
   "cell_type": "code",
   "execution_count": 1,
   "id": "f14d29fb",
   "metadata": {
    "execution": {
     "iopub.execute_input": "2024-03-27T20:25:40.487255Z",
     "iopub.status.busy": "2024-03-27T20:25:40.486816Z",
     "iopub.status.idle": "2024-03-27T20:25:53.871444Z",
     "shell.execute_reply": "2024-03-27T20:25:53.870348Z"
    },
    "papermill": {
     "duration": 13.395399,
     "end_time": "2024-03-27T20:25:53.873997",
     "exception": false,
     "start_time": "2024-03-27T20:25:40.478598",
     "status": "completed"
    },
    "tags": []
   },
   "outputs": [],
   "source": [
    "import os\n",
    "import random\n",
    "from datetime import date\n",
    "\n",
    "import numpy as np\n",
    "import pandas as pd\n",
    "import torch\n",
    "import torch.nn as nn\n",
    "import torch.optim as optim\n",
    "import matplotlib.pyplot as plt\n",
    "import torchvision.models as models\n",
    "import torchvision.transforms as transforms\n",
    "from PIL import Image\n",
    "from torch.utils.data import DataLoader, Dataset\n",
    "from sklearn.metrics import balanced_accuracy_score\n",
    "from torch.utils.data.dataloader import default_collate\n",
    "\n",
    "def set_seed(seed_value=42):\n",
    "    \"\"\"Set seed for reproducibility.\"\"\"\n",
    "    np.random.seed(seed_value)\n",
    "    torch.manual_seed(seed_value)\n",
    "    random.seed(seed_value)\n",
    "    if torch.cuda.is_available():\n",
    "        torch.cuda.manual_seed_all(seed_value)\n",
    "\n",
    "set_seed(42)\n"
   ]
  },
  {
   "cell_type": "markdown",
   "id": "8ff9ef66",
   "metadata": {},
   "source": [
    "----\n",
    "----\n",
    "# <b> Load the model </b>"
   ]
  },
  {
   "cell_type": "code",
   "execution_count": null,
   "id": "e0e7e5d0",
   "metadata": {},
   "outputs": [],
   "source": [
    "class PatientImagesDataset(Dataset):\n",
    "    def __init__(self, root_dir, csv_file, transform=None):\n",
    "        self.root_dir = root_dir\n",
    "        self.csv_file = csv_file  \n",
    "        self.transform = transform\n",
    "        self.patient_images = {}  \n",
    "        self.patients_info = {}\n",
    "        self.df = pd.read_csv(csv_file)\n",
    "        self.df = self.csv_processing(self.df)\n",
    "        self.load_images()\n",
    "  \n",
    "\n",
    "    def csv_processing(self, features):\n",
    "        def calculate_age(born):\n",
    "            today = date.today()\n",
    "            try:\n",
    "                [day, month, year] = [int(i) for i in born.split(\"/\")]\n",
    "            except:\n",
    "                [day, month, year] = [int(i) for i in born.split(\"-\")]\n",
    "            return today.year - year - ((today.month, today.day) < (month, day))\n",
    "\n",
    "        features[\"DOB\"] = features[\"DOB\"].apply(calculate_age)  \n",
    "        features[\"GENDER\"] = features[\"GENDER\"].apply(lambda s: 0 if s == 'M' else 1)\n",
    "        return features\n",
    "\n",
    "\n",
    "    def load_images(self):\n",
    "        for _, row in self.df.iterrows():\n",
    "            patient_id = row['ID']\n",
    "            patient_folder = os.path.join(self.root_dir, patient_id)\n",
    "            self.patient_images[patient_id] = []  \n",
    "            if os.path.isdir(patient_folder):\n",
    "                for img_filename in os.listdir(patient_folder):\n",
    "                    img_path = os.path.join(patient_folder, img_filename)\n",
    "                    self.patient_images[patient_id].append(img_path)\n",
    "                    self.patients_info[img_path] = row.to_dict()\n",
    "\n",
    "    def __len__(self):\n",
    "        return len(self.df)  \n",
    "    \n",
    "    def __getitem__(self, idx):\n",
    "        patient_id = self.df.iloc[idx]['ID']\n",
    "        patient_data = self.df.iloc[idx].to_dict()\n",
    "        images = [Image.open(img_path).convert('RGB') for img_path in self.patient_images[patient_id]]\n",
    "        if self.transform:\n",
    "            images = [self.transform(image) for image in images]\n",
    "        label = patient_data['LABEL']\n",
    "        patient_info = {key: patient_data[key] for key in patient_data if key not in ['ID', 'LABEL']}\n",
    "        return images, label, patient_info\n",
    "transform = transforms.Compose([\n",
    "    transforms.Resize((156, 156)),\n",
    "    transforms.ToTensor(),\n",
    "    transforms.Normalize(mean=[0.485, 0.456, 0.406], std=[0.229, 0.224, 0.225]),\n",
    "])\n"
   ]
  },
  {
   "cell_type": "code",
   "execution_count": null,
   "id": "b37f150d",
   "metadata": {},
   "outputs": [],
   "source": [
    "def custom_train_val_split(dataset, train_frac=0.8):\n",
    "    patient_ids = list(dataset.patient_images.keys())\n",
    "    total_patients = len(patient_ids)\n",
    "    \n",
    "    train_patient_ids = set(np.random.choice(patient_ids, int(train_frac * total_patients), replace=False))\n",
    "    val_patient_ids = set(patient_ids) - train_patient_ids\n",
    "    \n",
    "    train_df = dataset.df[dataset.df['ID'].isin(train_patient_ids)].reset_index(drop=True)\n",
    "    val_df = dataset.df[dataset.df['ID'].isin(val_patient_ids)].reset_index(drop=True)\n",
    "\n",
    "    train_dataset = PatientImagesDataset(dataset.root_dir, dataset.csv_file, dataset.transform)\n",
    "    train_dataset.df = train_df\n",
    "    train_dataset.load_images()  \n",
    "\n",
    "    val_dataset = PatientImagesDataset(dataset.root_dir, dataset.csv_file, dataset.transform)\n",
    "    val_dataset.df = val_df\n",
    "    val_dataset.load_images()  \n",
    "    return train_dataset, val_dataset\n",
    "\n",
    "def custom_collate_fn(batch):\n",
    "    images_flattened = [image for batch_item in batch for image in batch_item[0]]\n",
    "    labels = torch.tensor([item[1] for item in batch])\n",
    "    patient_infos = [item[2] for item in batch]\n",
    "    \n",
    "    images_collated = default_collate(images_flattened)\n",
    "        \n",
    "    return images_collated, labels, patient_infos\n"
   ]
  },
  {
   "cell_type": "code",
   "execution_count": 11,
   "id": "6bf8da87",
   "metadata": {
    "execution": {
     "iopub.execute_input": "2024-03-27T20:25:54.561227Z",
     "iopub.status.busy": "2024-03-27T20:25:54.560811Z",
     "iopub.status.idle": "2024-03-27T20:25:58.304819Z",
     "shell.execute_reply": "2024-03-27T20:25:58.302942Z"
    },
    "papermill": {
     "duration": 3.759758,
     "end_time": "2024-03-27T20:25:58.308081",
     "exception": false,
     "start_time": "2024-03-27T20:25:54.548323",
     "status": "completed"
    },
    "tags": []
   },
   "outputs": [],
   "source": [
    "\n",
    "class MultiInstanceModel(nn.Module):\n",
    "    def __init__(self, num_patient_features, output_dim=2):\n",
    "        super(MultiInstanceModel, self).__init__()\n",
    "        self.resnet = models.resnet50(pretrained=True)\n",
    "        num_ftrs = self.resnet.fc.in_features\n",
    "        self.resnet.fc = nn.Identity()  \n",
    "        \n",
    "        self.patient_info_layer = nn.Linear(num_patient_features, 128)\n",
    "        \n",
    "        self.classifier = nn.Sequential(\n",
    "            nn.Linear(num_ftrs + 128, 512),\n",
    "            nn.ReLU(),\n",
    "            nn.Dropout(0.5),\n",
    "            nn.Linear(512, 1)\n",
    "        )\n",
    "        \n",
    "    def forward(self, images, patient_info):\n",
    "        img_features = torch.stack([self.resnet(img.unsqueeze(0)) for img in images]).mean(0)\n",
    "        \n",
    "        patient_info_features = self.patient_info_layer(patient_info)\n",
    "        \n",
    "        combined_features = torch.cat((img_features, patient_info_features), dim=1)\n",
    "        output = self.classifier(combined_features)\n",
    "        return output\n",
    "\n"
   ]
  },
  {
   "cell_type": "markdown",
   "id": "c744bc26",
   "metadata": {},
   "source": [
    "----\n",
    "----\n",
    "# <b> Do the training </b>"
   ]
  },
  {
   "cell_type": "code",
   "execution_count": 12,
   "id": "30a016f3",
   "metadata": {
    "execution": {
     "iopub.execute_input": "2024-03-27T20:25:58.335364Z",
     "iopub.status.busy": "2024-03-27T20:25:58.334905Z",
     "iopub.status.idle": "2024-03-27T20:26:00.772471Z",
     "shell.execute_reply": "2024-03-27T20:26:00.771409Z"
    },
    "papermill": {
     "duration": 2.454277,
     "end_time": "2024-03-27T20:26:00.775123",
     "exception": false,
     "start_time": "2024-03-27T20:25:58.320846",
     "status": "completed"
    },
    "tags": []
   },
   "outputs": [],
   "source": [
    "\n",
    "def train_and_validate(model, train_loader, val_loader, criterion, optimizer, num_epochs, device, save_path):\n",
    "    training_losses = []\n",
    "    validation_losses = []\n",
    "    validation_balanced_accuracies = []\n",
    "    \n",
    "    best_val_balanced_acc = 0.0  \n",
    "\n",
    "    for epoch in range(num_epochs):\n",
    "        model.train()\n",
    "        total_train_loss = 0\n",
    "        all_train_preds = []\n",
    "        all_train_labels = []\n",
    "\n",
    "        for images, labels, patient_infos in train_loader:\n",
    "            images = [img.to(device) for img in images]\n",
    "            patient_infos_tensor = torch.stack([torch.tensor(list(info.values()), dtype=torch.float) for info in patient_infos]).to(device)\n",
    "            labels = labels.to(device).float().unsqueeze(1)  \n",
    "            optimizer.zero_grad()\n",
    "            outputs = model(images, patient_infos_tensor)\n",
    "            loss = criterion(outputs, labels)\n",
    "            loss.backward()\n",
    "            optimizer.step()\n",
    "\n",
    "            total_train_loss += loss.item()\n",
    "\n",
    "            preds = torch.sigmoid(outputs).detach().round().cpu().numpy()\n",
    "            all_train_preds.extend(preds)\n",
    "            all_train_labels.extend(labels.cpu().numpy())\n",
    "\n",
    "        avg_train_loss = total_train_loss / len(train_loader)\n",
    "        training_losses.append(avg_train_loss)\n",
    "\n",
    "        model.eval()\n",
    "        total_val_loss = 0\n",
    "        all_val_preds = []\n",
    "        all_val_labels = []\n",
    "        with torch.no_grad():\n",
    "            for images, labels, patient_infos in val_loader:\n",
    "                images = [img.to(device) for img in images]\n",
    "                patient_infos_tensor = torch.stack([torch.tensor(list(info.values()), dtype=torch.float) for info in patient_infos]).to(device)\n",
    "                labels = labels.to(device).float().unsqueeze(1)  \n",
    "\n",
    "                outputs = model(images, patient_infos_tensor)\n",
    "                val_loss = criterion(outputs, labels)\n",
    "                total_val_loss += val_loss.item()\n",
    "\n",
    "                preds = torch.sigmoid(outputs).detach().round().cpu().numpy()\n",
    "                all_val_preds.extend(preds)\n",
    "                all_val_labels.extend(labels.cpu().numpy())\n",
    "\n",
    "        avg_val_loss = total_val_loss / len(val_loader)\n",
    "        validation_losses.append(avg_val_loss)\n",
    "\n",
    "        val_balanced_acc = balanced_accuracy_score(all_val_labels, np.array(all_val_preds).flatten())\n",
    "        validation_balanced_accuracies.append(val_balanced_acc)\n",
    "\n",
    "        if val_balanced_acc > best_val_balanced_acc:\n",
    "            print(f'New best validation balanced accuracy: {val_balanced_acc:.4f} (previous: {best_val_balanced_acc:.4f}), saving model...')\n",
    "            best_val_balanced_acc = val_balanced_acc\n",
    "            \n",
    "            # Save the model state\n",
    "            torch.save(model.state_dict(), save_path)\n",
    "        \n",
    "        print(f'Epoch [{epoch+1}/{num_epochs}], Training Loss: {avg_train_loss:.4f}, Validation Loss: {avg_val_loss:.4f}, Validation Balanced Acc: {val_balanced_acc:.4f}')\n",
    "\n",
    "    return training_losses, validation_losses, validation_balanced_accuracies\n"
   ]
  },
  {
   "cell_type": "code",
   "execution_count": 13,
   "id": "8dc0a353",
   "metadata": {
    "execution": {
     "iopub.execute_input": "2024-03-27T20:26:00.796026Z",
     "iopub.status.busy": "2024-03-27T20:26:00.795461Z",
     "iopub.status.idle": "2024-03-27T20:26:02.471011Z",
     "shell.execute_reply": "2024-03-27T20:26:02.469923Z"
    },
    "papermill": {
     "duration": 1.688547,
     "end_time": "2024-03-27T20:26:02.473564",
     "exception": false,
     "start_time": "2024-03-27T20:26:00.785017",
     "status": "completed"
    },
    "tags": []
   },
   "outputs": [],
   "source": [
    "\n",
    "csv_file = '/kaggle/input/dlmi-competition/trainset/trainset_true.csv'\n",
    "root_dir = '/kaggle/input/dlmi-competition/trainset'\n",
    "\n",
    "train_dataset = PatientImagesDataset(root_dir=root_dir, csv_file=csv_file, transform=transform)\n",
    "\n",
    "\n",
    "train_dataset, val_dataset = custom_train_val_split(train_dataset, train_frac=0.75)\n",
    "\n",
    "train_loader = DataLoader(train_dataset, batch_size=1, shuffle=True, collate_fn=custom_collate_fn)\n",
    "val_loader = DataLoader(val_dataset, batch_size=1, shuffle=False, collate_fn=custom_collate_fn)\n"
   ]
  },
  {
   "cell_type": "code",
   "execution_count": 14,
   "id": "f6c3eb29",
   "metadata": {
    "execution": {
     "iopub.execute_input": "2024-03-27T20:26:02.494948Z",
     "iopub.status.busy": "2024-03-27T20:26:02.494538Z",
     "iopub.status.idle": "2024-03-27T20:26:04.318495Z",
     "shell.execute_reply": "2024-03-27T20:26:04.317672Z"
    },
    "papermill": {
     "duration": 1.838104,
     "end_time": "2024-03-27T20:26:04.321407",
     "exception": false,
     "start_time": "2024-03-27T20:26:02.483303",
     "status": "completed"
    },
    "tags": []
   },
   "outputs": [
    {
     "name": "stderr",
     "output_type": "stream",
     "text": [
      "/opt/conda/lib/python3.10/site-packages/torchvision/models/_utils.py:208: UserWarning: The parameter 'pretrained' is deprecated since 0.13 and may be removed in the future, please use 'weights' instead.\n",
      "  warnings.warn(\n",
      "/opt/conda/lib/python3.10/site-packages/torchvision/models/_utils.py:223: UserWarning: Arguments other than a weight enum or `None` for 'weights' are deprecated since 0.13 and may be removed in the future. The current behavior is equivalent to passing `weights=ResNet50_Weights.IMAGENET1K_V1`. You can also use `weights=ResNet50_Weights.DEFAULT` to get the most up-to-date weights.\n",
      "  warnings.warn(msg)\n",
      "Downloading: \"https://download.pytorch.org/models/resnet50-0676ba61.pth\" to /root/.cache/torch/hub/checkpoints/resnet50-0676ba61.pth\n",
      "100%|██████████| 97.8M/97.8M [00:00<00:00, 143MB/s]\n"
     ]
    }
   ],
   "source": [
    "device = torch.device(\"cuda\" if torch.cuda.is_available() else \"cpu\")\n",
    "\n",
    "\n",
    "\n",
    "num_patient_features = 3  \n",
    "model = MultiInstanceModel(num_patient_features=num_patient_features, output_dim=2).to(device)\n",
    "model = model.to(device)  \n",
    "criterion = torch.nn.BCEWithLogitsLoss()  \n",
    "optimizer = torch.optim.Adam(model.parameters(), lr=0.01)\n",
    "\n",
    "\n",
    "\n",
    "num_epochs = 30  \n"
   ]
  },
  {
   "cell_type": "code",
   "execution_count": 15,
   "id": "28d4cb94",
   "metadata": {
    "execution": {
     "iopub.execute_input": "2024-03-27T20:26:04.344758Z",
     "iopub.status.busy": "2024-03-27T20:26:04.344358Z",
     "iopub.status.idle": "2024-03-27T22:43:44.070226Z",
     "shell.execute_reply": "2024-03-27T22:43:44.069162Z"
    },
    "papermill": {
     "duration": 8259.753384,
     "end_time": "2024-03-27T22:43:44.085422",
     "exception": false,
     "start_time": "2024-03-27T20:26:04.332038",
     "status": "completed"
    },
    "tags": []
   },
   "outputs": [
    {
     "name": "stdout",
     "output_type": "stream",
     "text": [
      "New best validation balanced accuracy: 0.6243 (previous: 0.0000), saving model...\n",
      "Epoch [1/30], Training Loss: 23.4589, Validation Loss: 6.6383, Validation Balanced Acc: 0.6243\n",
      "Epoch [2/30], Training Loss: 22.0177, Validation Loss: 4.0912, Validation Balanced Acc: 0.5000\n",
      "Epoch [3/30], Training Loss: 13.1410, Validation Loss: 28.1503, Validation Balanced Acc: 0.5000\n",
      "Epoch [4/30], Training Loss: 18.9388, Validation Loss: 34.3386, Validation Balanced Acc: 0.5000\n",
      "New best validation balanced accuracy: 0.6865 (previous: 0.6243), saving model...\n",
      "Epoch [5/30], Training Loss: 17.6241, Validation Loss: 10.3123, Validation Balanced Acc: 0.6865\n",
      "New best validation balanced accuracy: 0.7143 (previous: 0.6865), saving model...\n",
      "Epoch [6/30], Training Loss: 4.5826, Validation Loss: 1.8372, Validation Balanced Acc: 0.7143\n",
      "Epoch [7/30], Training Loss: 2.0110, Validation Loss: 3.0938, Validation Balanced Acc: 0.6429\n",
      "New best validation balanced accuracy: 0.8915 (previous: 0.7143), saving model...\n",
      "Epoch [8/30], Training Loss: 1.3234, Validation Loss: 0.3790, Validation Balanced Acc: 0.8915\n",
      "Epoch [9/30], Training Loss: 0.7221, Validation Loss: 0.5142, Validation Balanced Acc: 0.8373\n",
      "Epoch [10/30], Training Loss: 0.3984, Validation Loss: 0.3013, Validation Balanced Acc: 0.6772\n",
      "Epoch [11/30], Training Loss: 0.3161, Validation Loss: 0.5496, Validation Balanced Acc: 0.6071\n",
      "Epoch [12/30], Training Loss: 0.4994, Validation Loss: 0.4151, Validation Balanced Acc: 0.7659\n",
      "Epoch [13/30], Training Loss: 0.3724, Validation Loss: 0.2605, Validation Balanced Acc: 0.7487\n",
      "Epoch [14/30], Training Loss: 0.3980, Validation Loss: 0.8033, Validation Balanced Acc: 0.6958\n",
      "New best validation balanced accuracy: 0.9087 (previous: 0.8915), saving model...\n",
      "Epoch [15/30], Training Loss: 0.5366, Validation Loss: 0.2555, Validation Balanced Acc: 0.9087\n",
      "Epoch [16/30], Training Loss: 0.3844, Validation Loss: 0.4663, Validation Balanced Acc: 0.7143\n",
      "Epoch [17/30], Training Loss: 0.4245, Validation Loss: 1.7673, Validation Balanced Acc: 0.7407\n",
      "New best validation balanced accuracy: 0.9259 (previous: 0.9087), saving model...\n",
      "Epoch [18/30], Training Loss: 0.3669, Validation Loss: 0.2210, Validation Balanced Acc: 0.9259\n",
      "Epoch [19/30], Training Loss: 0.3769, Validation Loss: 0.4578, Validation Balanced Acc: 0.7143\n",
      "Epoch [20/30], Training Loss: 0.4179, Validation Loss: 0.6214, Validation Balanced Acc: 0.7143\n",
      "Epoch [21/30], Training Loss: 0.3919, Validation Loss: 0.3010, Validation Balanced Acc: 0.7143\n",
      "Epoch [22/30], Training Loss: 0.3978, Validation Loss: 0.2692, Validation Balanced Acc: 0.8214\n",
      "Epoch [23/30], Training Loss: 0.4604, Validation Loss: 1.3231, Validation Balanced Acc: 0.6071\n",
      "Epoch [24/30], Training Loss: 1.0317, Validation Loss: 0.6410, Validation Balanced Acc: 0.5000\n",
      "Epoch [25/30], Training Loss: 0.7273, Validation Loss: 1.8956, Validation Balanced Acc: 0.5000\n",
      "Epoch [26/30], Training Loss: 0.6891, Validation Loss: 0.3122, Validation Balanced Acc: 0.8717\n",
      "Epoch [27/30], Training Loss: 0.4309, Validation Loss: 1.6703, Validation Balanced Acc: 0.5000\n",
      "Epoch [28/30], Training Loss: 0.6806, Validation Loss: 0.6875, Validation Balanced Acc: 0.5714\n",
      "Epoch [29/30], Training Loss: 0.4788, Validation Loss: 0.4085, Validation Balanced Acc: 0.6071\n",
      "Epoch [30/30], Training Loss: 0.6635, Validation Loss: 0.3674, Validation Balanced Acc: 0.5714\n"
     ]
    }
   ],
   "source": [
    "\n",
    "save_path = '/kaggle/working/best_model_resnet50.pth'  \n",
    "training_losses, validation_losses, validation_balanced_accuracies = train_and_validate(\n",
    "    model, train_loader, val_loader, criterion, optimizer, num_epochs, device, save_path\n",
    ")\n"
   ]
  },
  {
   "cell_type": "code",
   "execution_count": 16,
   "id": "401e3fee",
   "metadata": {
    "execution": {
     "iopub.execute_input": "2024-03-27T22:43:44.115009Z",
     "iopub.status.busy": "2024-03-27T22:43:44.114292Z",
     "iopub.status.idle": "2024-03-27T22:43:44.473787Z",
     "shell.execute_reply": "2024-03-27T22:43:44.472829Z"
    },
    "papermill": {
     "duration": 0.377269,
     "end_time": "2024-03-27T22:43:44.476281",
     "exception": false,
     "start_time": "2024-03-27T22:43:44.099012",
     "status": "completed"
    },
    "tags": []
   },
   "outputs": [
    {
     "data": {
      "image/png": "[encoded data removed]",
      "text/plain": [
       "<Figure size 1000x500 with 1 Axes>"
      ]
     },
     "metadata": {},
     "output_type": "display_data"
    }
   ],
   "source": [
    "# Plot training and validation losses\n",
    "plt.figure(figsize=(10, 5))\n",
    "plt.plot(training_losses, label='Training Loss')\n",
    "plt.plot(validation_losses, label='Validation Loss')\n",
    "plt.xlabel('Epoch')\n",
    "plt.ylabel('Loss')\n",
    "plt.title('Training and Validation Losses')\n",
    "plt.legend()\n",
    "plt.show()\n",
    "\n"
   ]
  },
  {
   "cell_type": "markdown",
   "id": "3ebaa300",
   "metadata": {},
   "source": [
    "----\n",
    "----\n",
    "# <b> Do the testing </b>"
   ]
  },
  {
   "cell_type": "code",
   "execution_count": null,
   "id": "febe3e8e",
   "metadata": {
    "execution": {
     "iopub.execute_input": "2024-03-25T12:42:04.689342Z",
     "iopub.status.busy": "2024-03-25T12:42:04.689038Z",
     "iopub.status.idle": "2024-03-25T12:42:04.849035Z",
     "shell.execute_reply": "2024-03-25T12:42:04.848129Z"
    },
    "papermill": {
     "duration": 0.013259,
     "end_time": "2024-03-27T22:43:44.503594",
     "exception": false,
     "start_time": "2024-03-27T22:43:44.490335",
     "status": "completed"
    },
    "tags": []
   },
   "outputs": [],
   "source": [
    "class TestPatientImagesDataset(Dataset):\n",
    "    def __init__(self, root_dir, csv_file, transform=None):\n",
    "        self.root_dir = root_dir\n",
    "        self.csv_file = csv_file\n",
    "        self.transform = transform\n",
    "        self.patient_images = {}\n",
    "        self.patients_info = {}\n",
    "        self.df = pd.read_csv(csv_file)\n",
    "        self.df = self.csv_processing(self.df)\n",
    "        self.load_images()\n",
    "\n",
    "    def csv_processing(self, features):\n",
    "        if 'LABEL' in features.columns:\n",
    "            features = features.drop(columns=['LABEL'])\n",
    "\n",
    "        def calculate_age(born):\n",
    "            today = date.today()\n",
    "            try:\n",
    "                [day, month, year] = [int(i) for i in born.split(\"/\")]\n",
    "            except:\n",
    "                [day, month, year] = [int(i) for i in born.split(\"-\")]\n",
    "            return today.year - year - ((today.month, today.day) < (month, day))\n",
    "\n",
    "        features[\"DOB\"] = features[\"DOB\"].apply(calculate_age)  \n",
    "        features[\"GENDER\"] = features[\"GENDER\"].apply(lambda s: 0 if s == 'M' else 1)\n",
    "        return features\n",
    "\n",
    "\n",
    "    def load_images(self):\n",
    "        for _, row in self.df.iterrows():\n",
    "            patient_id = row['ID']\n",
    "            patient_folder = os.path.join(self.root_dir, patient_id)\n",
    "            self.patient_images[patient_id] = []  \n",
    "            if os.path.isdir(patient_folder):\n",
    "                for img_filename in os.listdir(patient_folder):\n",
    "                    img_path = os.path.join(patient_folder, img_filename)\n",
    "                    self.patient_images[patient_id].append(img_path)\n",
    "                    self.patients_info[img_path] = row.to_dict()\n",
    "\n",
    "    def __len__(self):\n",
    "        return len(self.df)\n",
    "\n",
    "    def __getitem__(self, idx):\n",
    "        patient_id = self.df.iloc[idx]['ID']\n",
    "        patient_data = self.df.iloc[idx].to_dict()\n",
    "        images = [Image.open(img_path).convert('RGB') for img_path in self.patient_images[patient_id]]\n",
    "        if self.transform:\n",
    "            images = [self.transform(image) for image in images]\n",
    "        patient_info = {key: patient_data[key] for key in patient_data if key not in ['ID']}\n",
    "        return images, patient_info, patient_id"
   ]
  },
  {
   "cell_type": "code",
   "execution_count": null,
   "id": "08eab57f",
   "metadata": {},
   "outputs": [],
   "source": [
    "test_dataset = TestPatientImagesDataset(\n",
    "    root_dir='/kaggle/input/dlmi-competition/testset', \n",
    "    csv_file='/kaggle/input/dlmi-competition/testset/testset_data.csv', \n",
    "    transform=transform\n",
    ")\n",
    "\n",
    "test_loader = DataLoader(test_dataset, batch_size=1, shuffle=False, collate_fn=custom_collate_fn)"
   ]
  },
  {
   "cell_type": "code",
   "execution_count": null,
   "id": "b0f72b8e",
   "metadata": {},
   "outputs": [],
   "source": [
    "# Load the saved model weights if not trained in the current session\n",
    "#model_path = ''\n",
    "#model.load_state_dict(torch.load(model_path, map_location=device))\n",
    "\n",
    "# Set the model to evaluation mode\n",
    "model.eval()\n"
   ]
  },
  {
   "cell_type": "code",
   "execution_count": null,
   "id": "a61d8642",
   "metadata": {},
   "outputs": [],
   "source": [
    "predictions = []\n",
    "\n",
    "with torch.no_grad():\n",
    "    for images, patient_infos, patient_ids in test_loader:\n",
    "        images = images.to(device)\n",
    "        \n",
    "    \n",
    "        if isinstance(patient_infos, dict):  \n",
    "            patient_infos = [patient_infos]  \n",
    "        patient_infos_tensor = torch.tensor([list(info.values()) for info in patient_infos], dtype=torch.float).to(device)\n",
    "        \n",
    "        assert patient_infos_tensor.shape[1] == 3, \"Incorrect number of patient features\"\n",
    "\n",
    "        output = model(images, patient_infos_tensor)\n",
    "\n",
    "        pred = torch.sigmoid(output).mean().item() > 0.5 \n",
    "        patient_id = patient_ids[0] if isinstance(patient_ids, (list, torch.Tensor)) else patient_ids\n",
    "        predictions.append([patient_id, int(pred)])\n",
    "\n",
    "\n",
    "submission_df= pd.DataFrame(predictions, columns=['Id', 'Predicted'])\n"
   ]
  },
  {
   "cell_type": "code",
   "execution_count": null,
   "id": "d8ef7078",
   "metadata": {},
   "outputs": [],
   "source": [
    "# Convert predictions to DataFrame and save to CSV for submission\n",
    "submission_df = pd.DataFrame(predictions, columns=['Id', 'Predicted'])\n",
    "submission_df.to_csv('/kaggle/working/submission.csv', index=False)\n"
   ]
  }
 ],
 "metadata": {
  "kaggle": {
   "accelerator": "nvidiaTeslaT4",
   "dataSources": [
    {
     "datasetId": 4642311,
     "sourceId": 7903829,
     "sourceType": "datasetVersion"
    },
    {
     "datasetId": 4677126,
     "sourceId": 7952807,
     "sourceType": "datasetVersion"
    }
   ],
   "dockerImageVersionId": 30674,
   "isGpuEnabled": true,
   "isInternetEnabled": true,
   "language": "python",
   "sourceType": "notebook"
  },
  "kernelspec": {
   "display_name": "Python 3",
   "language": "python",
   "name": "python3"
  },
  "language_info": {
   "codemirror_mode": {
    "name": "ipython",
    "version": 3
   },
   "file_extension": ".py",
   "mimetype": "text/x-python",
   "name": "python",
   "nbconvert_exporter": "python",
   "pygments_lexer": "ipython3",
   "version": "3.10.13"
  },
  "papermill": {
   "default_parameters": {},
   "duration": 8291.941062,
   "end_time": "2024-03-27T22:43:48.221303",
   "environment_variables": {},
   "exception": null,
   "input_path": "__notebook__.ipynb",
   "output_path": "__notebook__.ipynb",
   "parameters": {},
   "start_time": "2024-03-27T20:25:36.280241",
   "version": "2.5.0"
  }
 },
 "nbformat": 4,
 "nbformat_minor": 5
}
