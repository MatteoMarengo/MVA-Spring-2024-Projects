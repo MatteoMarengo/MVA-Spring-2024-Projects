{
 "cells": [
  {
   "cell_type": "code",
   "execution_count": 1,
   "id": "e3f4c81c",
   "metadata": {
    "execution": {
     "iopub.execute_input": "2024-03-26T15:21:30.055631Z",
     "iopub.status.busy": "2024-03-26T15:21:30.054805Z",
     "iopub.status.idle": "2024-03-26T15:21:38.874366Z",
     "shell.execute_reply": "2024-03-26T15:21:38.873471Z"
    },
    "papermill": {
     "duration": 8.829917,
     "end_time": "2024-03-26T15:21:38.876776",
     "exception": false,
     "start_time": "2024-03-26T15:21:30.046859",
     "status": "completed"
    },
    "tags": []
   },
   "outputs": [],
   "source": [
    "# Import libraries\n",
    "import numpy as np\n",
    "import pandas as pd\n",
    "import torch\n",
    "import os\n",
    "from datetime import date\n",
    "from PIL import Image\n",
    "from torch.utils.data import Dataset, DataLoader, Sampler\n",
    "from torchvision import models, transforms\n",
    "from torch.nn import nn\n",
    "from torch.utils.data.dataloader import default_collate\n",
    "from sklearn.metrics import balanced_accuracy_score\n",
    "import torch.optim as optim\n",
    "import matplotlib.pyplot as plt"
   ]
  },
  {
   "cell_type": "code",
   "execution_count": 11,
   "id": "edbbdbbc",
   "metadata": {
    "execution": {
     "iopub.execute_input": "2024-03-26T15:21:39.442062Z",
     "iopub.status.busy": "2024-03-26T15:21:39.441787Z",
     "iopub.status.idle": "2024-03-26T15:21:43.127735Z",
     "shell.execute_reply": "2024-03-26T15:21:43.126837Z"
    },
    "papermill": {
     "duration": 3.698523,
     "end_time": "2024-03-26T15:21:43.130226",
     "exception": false,
     "start_time": "2024-03-26T15:21:39.431703",
     "status": "completed"
    },
    "tags": []
   },
   "outputs": [],
   "source": [
    "class PatientImagesDataset(Dataset):\n",
    "    def __init__(self, root_dir, csv_file, transform=None):\n",
    "        self.root_dir = root_dir\n",
    "        self.csv_file = csv_file  \n",
    "        self.transform = transform\n",
    "        self.patient_images = {}  \n",
    "        self.patients_info = {}\n",
    "        self.df = pd.read_csv(csv_file)\n",
    "        self.df = self.csv_processing(self.df)\n",
    "        self.load_images()\n",
    "  \n",
    "\n",
    "    def csv_processing(self, features):\n",
    "        def calculate_age(born):\n",
    "            today = date.today()\n",
    "            try:\n",
    "                [day, month, year] = [int(i) for i in born.split(\"/\")]\n",
    "            except:\n",
    "                [day, month, year] = [int(i) for i in born.split(\"-\")]\n",
    "            return today.year - year - ((today.month, today.day) < (month, day))\n",
    "\n",
    "        features[\"DOB\"] = features[\"DOB\"].apply(calculate_age)  \n",
    "        features[\"GENDER\"] = features[\"GENDER\"].apply(lambda s: 0 if s == 'M' else 1)\n",
    "        return features\n",
    "\n",
    "\n",
    "    def load_images(self):\n",
    "        for _, row in self.df.iterrows():\n",
    "            patient_id = row['ID']\n",
    "            patient_folder = os.path.join(self.root_dir, patient_id)\n",
    "            self.patient_images[patient_id] = []  \n",
    "            if os.path.isdir(patient_folder):\n",
    "                for img_filename in os.listdir(patient_folder):\n",
    "                    img_path = os.path.join(patient_folder, img_filename)\n",
    "                    self.patient_images[patient_id].append(img_path)\n",
    "                    self.patients_info[img_path] = row.to_dict()\n",
    "\n",
    "    def __len__(self):\n",
    "        return len(self.df)  \n",
    "    \n",
    "    def __getitem__(self, idx):\n",
    "        patient_id = self.df.iloc[idx]['ID']\n",
    "        patient_data = self.df.iloc[idx].to_dict()\n",
    "        images = [Image.open(img_path).convert('RGB') for img_path in self.patient_images[patient_id]]\n",
    "        if self.transform:\n",
    "            images = [self.transform(image) for image in images]\n",
    "        label = patient_data['LABEL']\n",
    "        patient_info = {key: patient_data[key] for key in patient_data if key not in ['ID', 'LABEL']}\n",
    "        return images, label, patient_info\n"
   ]
  },
  {
   "cell_type": "code",
   "execution_count": null,
   "id": "dbcbef29",
   "metadata": {},
   "outputs": [],
   "source": [
    "def custom_train_val_split(dataset, train_frac=0.8):\n",
    "    patient_ids = list(dataset.patient_images.keys())\n",
    "    total_patients = len(patient_ids)\n",
    "    \n",
    "    train_patient_ids = set(np.random.choice(patient_ids, int(train_frac * total_patients), replace=False))\n",
    "    val_patient_ids = set(patient_ids) - train_patient_ids\n",
    "    \n",
    "    train_df = dataset.df[dataset.df['ID'].isin(train_patient_ids)].reset_index(drop=True)\n",
    "    val_df = dataset.df[dataset.df['ID'].isin(val_patient_ids)].reset_index(drop=True)\n",
    "\n",
    "    train_dataset = PatientImagesDataset(dataset.root_dir, dataset.csv_file, dataset.transform)\n",
    "    train_dataset.df = train_df\n",
    "    train_dataset.load_images()  \n",
    "\n",
    "    val_dataset = PatientImagesDataset(dataset.root_dir, dataset.csv_file, dataset.transform)\n",
    "    val_dataset.df = val_df\n",
    "    val_dataset.load_images()  \n",
    "\n",
    "    return train_dataset, val_dataset\n",
    "\n",
    "\n",
    "\n",
    "def custom_collate_fn(batch):\n",
    "    images_flattened = [image for batch_item in batch for image in batch_item[0]]\n",
    "    labels = torch.tensor([item[1] for item in batch])\n",
    "    patient_infos = [item[2] for item in batch]\n",
    "    images_collated = default_collate(images_flattened)\n",
    "        \n",
    "    return images_collated, labels, patient_infos"
   ]
  },
  {
   "cell_type": "code",
   "execution_count": null,
   "id": "22cb61a9",
   "metadata": {},
   "outputs": [],
   "source": [
    "class MultiInstanceModel(nn.Module):\n",
    "    def __init__(self, num_patient_features, output_dim=2):\n",
    "        super(MultiInstanceModel, self).__init__()\n",
    "        # Load a pre-trained VGG19 model\n",
    "        self.vgg19 = models.vgg19(pretrained=True)\n",
    "        num_ftrs = 25088 \n",
    "        self.vgg19.classifier = nn.Identity()\n",
    "\n",
    "        self.patient_info_mlp = nn.Sequential(\n",
    "            nn.Linear(num_patient_features, 128),  \n",
    "            nn.ReLU(),\n",
    "            nn.Linear(128, 64),  \n",
    "            nn.ReLU(),\n",
    "            nn.Linear(64, 64),  \n",
    "        )\n",
    "\n",
    "        self.classifier = nn.Sequential(\n",
    "            nn.Linear(num_ftrs + 64, 512), \n",
    "            nn.ReLU(),\n",
    "            nn.Dropout(0.5),\n",
    "            nn.Linear(512, 1)  \n",
    "        )\n",
    "\n",
    "    def forward(self, images, patient_info):\n",
    "        # Processing images\n",
    "        img_features_list = [self.vgg19(img.unsqueeze(0)) for img in images]\n",
    "        img_features_stack = torch.stack(img_features_list)\n",
    "        img_features_max_values, _ = img_features_stack.max(dim=0)  \n",
    "        patient_info_features = self.patient_info_mlp(patient_info)\n",
    "        combined_features = torch.cat((img_features_max_values, patient_info_features), dim=1)\n",
    "        output = self.classifier(combined_features)\n",
    "        return output\n"
   ]
  },
  {
   "cell_type": "code",
   "execution_count": 12,
   "id": "35ae41db",
   "metadata": {
    "execution": {
     "iopub.execute_input": "2024-03-26T15:21:43.149662Z",
     "iopub.status.busy": "2024-03-26T15:21:43.149113Z",
     "iopub.status.idle": "2024-03-26T15:21:44.642767Z",
     "shell.execute_reply": "2024-03-26T15:21:44.641828Z"
    },
    "papermill": {
     "duration": 1.506037,
     "end_time": "2024-03-26T15:21:44.645358",
     "exception": false,
     "start_time": "2024-03-26T15:21:43.139321",
     "status": "completed"
    },
    "tags": []
   },
   "outputs": [],
   "source": [
    "def train_and_validate(model, train_loader, val_loader, criterion, optimizer, num_epochs, device):\n",
    "    training_losses = []\n",
    "    validation_losses = []\n",
    "    all_preds = []\n",
    "    all_labels = []\n",
    "\n",
    "    for epoch in range(num_epochs):\n",
    "        model.train()\n",
    "        total_train_loss = 0\n",
    "        for images, labels, patient_infos in train_loader:\n",
    "            images = [img.to(device) for img in images]\n",
    "            patient_infos_tensor = torch.stack([torch.tensor(list(info.values()), dtype=torch.float) for info in patient_infos]).to(device)\n",
    "            labels = labels.unsqueeze(1).float().to(device)  \n",
    "            optimizer.zero_grad()\n",
    "            outputs = model(images, patient_infos_tensor)\n",
    "            loss = criterion(outputs, labels)\n",
    "            loss.backward()\n",
    "            optimizer.step()\n",
    "\n",
    "            total_train_loss += loss.item()\n",
    "\n",
    "        avg_train_loss = total_train_loss / len(train_loader)\n",
    "        training_losses.append(avg_train_loss)\n",
    "\n",
    "        # Validation phase\n",
    "        model.eval()\n",
    "        total_val_loss = 0\n",
    "        with torch.no_grad():\n",
    "            for images, labels, patient_infos in val_loader:\n",
    "                images = [img.to(device) for img in images]\n",
    "                patient_infos_tensor = torch.stack([torch.tensor(list(info.values()), dtype=torch.float) for info in patient_infos]).to(device)\n",
    "                labels = labels.unsqueeze(1).float().to(device)\n",
    "\n",
    "                outputs = model(images, patient_infos_tensor)\n",
    "\n",
    "                preds = torch.sigmoid(outputs).round()\n",
    "                preds_np = preds.squeeze().cpu().numpy()\n",
    "                labels_np = labels.squeeze().cpu().numpy()\n",
    "                \n",
    "                if preds_np.ndim == 0:\n",
    "                    preds_np = np.expand_dims(preds_np, 0)\n",
    "                if labels_np.ndim == 0:\n",
    "                    labels_np = np.expand_dims(labels_np, 0)\n",
    "\n",
    "                all_preds.extend(preds_np)\n",
    "                all_labels.extend(labels_np)\n",
    "\n",
    "                val_loss = criterion(outputs, labels)\n",
    "                total_val_loss += val_loss.item()\n",
    "\n",
    "            avg_val_loss = total_val_loss / len(val_loader)\n",
    "            validation_losses.append(avg_val_loss)\n",
    "\n",
    "        print(f'Epoch [{epoch+1}/{num_epochs}], Training Loss: {avg_train_loss}, Validation Loss: {avg_val_loss}')\n",
    "\n",
    "    final_balanced_acc = balanced_accuracy_score(np.array(all_labels), np.array(all_preds))\n",
    "    print(f'Final Validation Balanced Accuracy: {final_balanced_acc}')\n",
    "\n",
    "    return training_losses, validation_losses, final_balanced_acc\n"
   ]
  },
  {
   "cell_type": "code",
   "execution_count": null,
   "id": "0701b949",
   "metadata": {},
   "outputs": [],
   "source": [
    "csv_file = '/kaggle/input/dlmi-competition/trainset/trainset_true.csv'\n",
    "root_dir = '/kaggle/input/dlmi-competition/trainset'\n",
    "transform = transforms.Compose([\n",
    "    transforms.Resize((156, 156)),\n",
    "    transforms.ToTensor(),\n",
    "    transforms.Normalize(mean=[0.485, 0.456, 0.406], std=[0.229, 0.224, 0.225]),\n",
    "])\n",
    "\n",
    "train_dataset = PatientImagesDataset(root_dir=root_dir, csv_file=csv_file, transform=transform)\n"
   ]
  },
  {
   "cell_type": "code",
   "execution_count": 13,
   "id": "23d1c738",
   "metadata": {
    "execution": {
     "iopub.execute_input": "2024-03-26T15:21:44.665103Z",
     "iopub.status.busy": "2024-03-26T15:21:44.664627Z",
     "iopub.status.idle": "2024-03-26T15:21:45.808789Z",
     "shell.execute_reply": "2024-03-26T15:21:45.807663Z"
    },
    "papermill": {
     "duration": 1.156612,
     "end_time": "2024-03-26T15:21:45.811356",
     "exception": false,
     "start_time": "2024-03-26T15:21:44.654744",
     "status": "completed"
    },
    "tags": []
   },
   "outputs": [],
   "source": [
    "train_dataset, val_dataset = custom_train_val_split(train_dataset, train_frac=0.8)\n",
    "\n",
    "train_loader = DataLoader(train_dataset, batch_size=1, shuffle=True, collate_fn=custom_collate_fn)\n",
    "val_loader = DataLoader(val_dataset, batch_size=1, shuffle=False, collate_fn=custom_collate_fn)\n"
   ]
  },
  {
   "cell_type": "code",
   "execution_count": 14,
   "id": "9528d4e4",
   "metadata": {
    "execution": {
     "iopub.execute_input": "2024-03-26T15:21:45.830798Z",
     "iopub.status.busy": "2024-03-26T15:21:45.830445Z",
     "iopub.status.idle": "2024-03-26T15:21:51.762144Z",
     "shell.execute_reply": "2024-03-26T15:21:51.761309Z"
    },
    "papermill": {
     "duration": 5.944198,
     "end_time": "2024-03-26T15:21:51.764726",
     "exception": false,
     "start_time": "2024-03-26T15:21:45.820528",
     "status": "completed"
    },
    "tags": []
   },
   "outputs": [
    {
     "name": "stderr",
     "output_type": "stream",
     "text": [
      "/opt/conda/lib/python3.10/site-packages/torchvision/models/_utils.py:208: UserWarning: The parameter 'pretrained' is deprecated since 0.13 and may be removed in the future, please use 'weights' instead.\n",
      "  warnings.warn(\n",
      "/opt/conda/lib/python3.10/site-packages/torchvision/models/_utils.py:223: UserWarning: Arguments other than a weight enum or `None` for 'weights' are deprecated since 0.13 and may be removed in the future. The current behavior is equivalent to passing `weights=VGG19_Weights.IMAGENET1K_V1`. You can also use `weights=VGG19_Weights.DEFAULT` to get the most up-to-date weights.\n",
      "  warnings.warn(msg)\n",
      "Downloading: \"https://download.pytorch.org/models/vgg19-dcbb9e9d.pth\" to /root/.cache/torch/hub/checkpoints/vgg19-dcbb9e9d.pth\n",
      "100%|██████████| 548M/548M [00:03<00:00, 166MB/s]\n"
     ]
    }
   ],
   "source": [
    "device = torch.device(\"cuda\" if torch.cuda.is_available() else \"cpu\")\n",
    "\n",
    "\n",
    "num_patient_features = 3  \n",
    "model = MultiInstanceModel(num_patient_features=num_patient_features, output_dim=2).to(device)\n",
    "model = model.to(device) \n",
    "\n",
    "criterion = torch.nn.BCEWithLogitsLoss() \n",
    "optimizer = torch.optim.Adam(model.parameters(), lr=0.001)\n",
    "\n",
    "num_epochs = 20 \n"
   ]
  },
  {
   "cell_type": "code",
   "execution_count": 15,
   "id": "0b140eb7",
   "metadata": {
    "execution": {
     "iopub.execute_input": "2024-03-26T15:21:51.792649Z",
     "iopub.status.busy": "2024-03-26T15:21:51.792059Z",
     "iopub.status.idle": "2024-03-26T16:41:39.127155Z",
     "shell.execute_reply": "2024-03-26T16:41:39.126181Z"
    },
    "papermill": {
     "duration": 4787.36479,
     "end_time": "2024-03-26T16:41:39.143002",
     "exception": false,
     "start_time": "2024-03-26T15:21:51.778212",
     "status": "completed"
    },
    "tags": []
   },
   "outputs": [
    {
     "name": "stdout",
     "output_type": "stream",
     "text": [
      "Epoch [1/20], Training Loss: 9.147813680831764, Validation Loss: 0.593705744454355\n",
      "Epoch [2/20], Training Loss: 0.8952442436314904, Validation Loss: 0.5109856771085547\n",
      "Epoch [3/20], Training Loss: 0.4842708722172504, Validation Loss: 0.6324224838529269\n",
      "Epoch [4/20], Training Loss: 0.4816666042674227, Validation Loss: 0.45408327187492\n",
      "Epoch [5/20], Training Loss: 0.44595566330980013, Validation Loss: 0.46030079914172267\n",
      "Epoch [6/20], Training Loss: 0.4554806058826653, Validation Loss: 0.4486582105005659\n",
      "Epoch [7/20], Training Loss: 0.4379527933998988, Validation Loss: 0.43445326661105466\n",
      "Epoch [8/20], Training Loss: 0.4590450780854212, Validation Loss: 0.5398939966645369\n",
      "Epoch [9/20], Training Loss: 0.45182798201329966, Validation Loss: 0.4405322503695208\n",
      "Epoch [10/20], Training Loss: 0.4534734998444823, Validation Loss: 0.4409117128315281\n",
      "Epoch [11/20], Training Loss: 0.4300910411952233, Validation Loss: 0.40592976237460543\n",
      "Epoch [12/20], Training Loss: 0.44074536336438014, Validation Loss: 0.4369031588465079\n",
      "Epoch [13/20], Training Loss: 0.4407426036160686, Validation Loss: 0.41716419379189795\n",
      "Epoch [14/20], Training Loss: 0.42660229842788866, Validation Loss: 0.41376417816050115\n",
      "Epoch [15/20], Training Loss: 0.4094516226333322, Validation Loss: 0.559683832712339\n",
      "Epoch [16/20], Training Loss: 0.41220674785001843, Validation Loss: 0.3733982125624278\n",
      "Epoch [17/20], Training Loss: 0.41829256399265174, Validation Loss: 0.4323723384186451\n",
      "Epoch [18/20], Training Loss: 0.4250834114934509, Validation Loss: 0.4444747411288316\n",
      "Epoch [19/20], Training Loss: 0.4746454468124039, Validation Loss: 0.39324798752281687\n",
      "Epoch [20/20], Training Loss: 0.42413908768733855, Validation Loss: 0.4764338822302362\n",
      "Final Validation Balanced Accuracy: 0.5425\n"
     ]
    }
   ],
   "source": [
    "training_losses, validation_losses, validation_balanced_acc = train_and_validate(\n",
    "    model, train_loader, val_loader, criterion, optimizer, num_epochs, device\n",
    ")"
   ]
  },
  {
   "cell_type": "code",
   "execution_count": 16,
   "id": "5b28be7b",
   "metadata": {
    "execution": {
     "iopub.execute_input": "2024-03-26T16:41:39.173206Z",
     "iopub.status.busy": "2024-03-26T16:41:39.172835Z",
     "iopub.status.idle": "2024-03-26T16:41:39.507875Z",
     "shell.execute_reply": "2024-03-26T16:41:39.506916Z"
    },
    "papermill": {
     "duration": 0.352712,
     "end_time": "2024-03-26T16:41:39.510073",
     "exception": false,
     "start_time": "2024-03-26T16:41:39.157361",
     "status": "completed"
    },
    "tags": []
   },
   "outputs": [
    {
     "data": {
      "image/png": "[encoded data removed]",
      "text/plain": [
       "<Figure size 1000x500 with 1 Axes>"
      ]
     },
     "metadata": {},
     "output_type": "display_data"
    }
   ],
   "source": [
    "# Plot training and validation losses\n",
    "plt.figure(figsize=(10, 5))\n",
    "plt.plot(training_losses, label='Training Loss')\n",
    "plt.plot(validation_losses, label='Validation Loss')\n",
    "plt.xlabel('Epoch')\n",
    "plt.ylabel('Loss')\n",
    "plt.title('Training and Validation Losses')\n",
    "plt.legend()\n",
    "plt.show()\n",
    "\n"
   ]
  },
  {
   "cell_type": "code",
   "execution_count": 17,
   "id": "7e1a49af",
   "metadata": {
    "execution": {
     "iopub.execute_input": "2024-03-26T16:41:39.540673Z",
     "iopub.status.busy": "2024-03-26T16:41:39.540386Z",
     "iopub.status.idle": "2024-03-26T16:41:39.759201Z",
     "shell.execute_reply": "2024-03-26T16:41:39.758371Z"
    },
    "papermill": {
     "duration": 0.236545,
     "end_time": "2024-03-26T16:41:39.761700",
     "exception": false,
     "start_time": "2024-03-26T16:41:39.525155",
     "status": "completed"
    },
    "tags": []
   },
   "outputs": [],
   "source": [
    "torch.save(model.state_dict(), '/kaggle/working/multi_instance_model_VGG19.pth')\n"
   ]
  },
  {
   "cell_type": "markdown",
   "id": "c11354d4",
   "metadata": {},
   "source": [
    "# MODEL TESTING"
   ]
  },
  {
   "cell_type": "code",
   "execution_count": null,
   "id": "639fd6e7",
   "metadata": {},
   "outputs": [],
   "source": [
    "class TestPatientImagesDataset(Dataset):\n",
    "    def __init__(self, root_dir, csv_file, transform=None):\n",
    "        self.root_dir = root_dir\n",
    "        self.csv_file = csv_file\n",
    "        self.transform = transform\n",
    "        self.patient_images = {}\n",
    "        self.patients_info = {}\n",
    "        self.df = pd.read_csv(csv_file)\n",
    "        self.df = self.csv_processing(self.df)\n",
    "        self.load_images()\n",
    "\n",
    "    def csv_processing(self, features):\n",
    "        if 'LABEL' in features.columns:\n",
    "            features = features.drop(columns=['LABEL'])\n",
    "\n",
    "        def calculate_age(born):\n",
    "            today = date.today()\n",
    "            try:\n",
    "                [day, month, year] = [int(i) for i in born.split(\"/\")]\n",
    "            except:\n",
    "                [day, month, year] = [int(i) for i in born.split(\"-\")]\n",
    "            return today.year - year - ((today.month, today.day) < (month, day))\n",
    "\n",
    "        features[\"DOB\"] = features[\"DOB\"].apply(calculate_age)  \n",
    "        features[\"GENDER\"] = features[\"GENDER\"].apply(lambda s: 0 if s == 'M' else 1)\n",
    "        return features\n",
    "\n",
    "\n",
    "    def load_images(self):\n",
    "        for _, row in self.df.iterrows():\n",
    "            patient_id = row['ID']\n",
    "            patient_folder = os.path.join(self.root_dir, patient_id)\n",
    "            self.patient_images[patient_id] = []  \n",
    "            if os.path.isdir(patient_folder):\n",
    "                for img_filename in os.listdir(patient_folder):\n",
    "                    img_path = os.path.join(patient_folder, img_filename)\n",
    "                    self.patient_images[patient_id].append(img_path)\n",
    "                    self.patients_info[img_path] = row.to_dict()\n",
    "\n",
    "    def __len__(self):\n",
    "        return len(self.df)\n",
    "\n",
    "    def __getitem__(self, idx):\n",
    "        patient_id = self.df.iloc[idx]['ID']\n",
    "        patient_data = self.df.iloc[idx].to_dict()\n",
    "        images = [Image.open(img_path).convert('RGB') for img_path in self.patient_images[patient_id]]\n",
    "        if self.transform:\n",
    "            images = [self.transform(image) for image in images]\n",
    "        patient_info = {key: patient_data[key] for key in patient_data if key not in ['ID']}\n",
    "        return images, patient_info, patient_id"
   ]
  },
  {
   "cell_type": "code",
   "execution_count": null,
   "id": "5ea92c48",
   "metadata": {},
   "outputs": [],
   "source": [
    "test_dataset = TestPatientImagesDataset(\n",
    "    root_dir='/kaggle/input/dlmi-competition/testset', \n",
    "    csv_file='/kaggle/input/dlmi-competition/testset/testset_data.csv', \n",
    "    transform=transform\n",
    ")\n",
    "\n",
    "test_loader = DataLoader(test_dataset, batch_size=1, shuffle=False, collate_fn=custom_collate_fn)"
   ]
  },
  {
   "cell_type": "code",
   "execution_count": null,
   "id": "63b66f17",
   "metadata": {},
   "outputs": [],
   "source": [
    "# Load the saved model weights if not trained in the current session\n",
    "#model_path = ''\n",
    "#model.load_state_dict(torch.load(model_path, map_location=device))\n",
    "\n",
    "# Set the model to evaluation mode\n",
    "model.eval()\n"
   ]
  },
  {
   "cell_type": "code",
   "execution_count": null,
   "id": "a8d86289",
   "metadata": {},
   "outputs": [],
   "source": [
    "predictions = []\n",
    "\n",
    "with torch.no_grad():\n",
    "    for images, patient_infos, patient_ids in test_loader:\n",
    "        images = images.to(device)\n",
    "        \n",
    "    \n",
    "        if isinstance(patient_infos, dict):  \n",
    "            patient_infos = [patient_infos]  \n",
    "        patient_infos_tensor = torch.tensor([list(info.values()) for info in patient_infos], dtype=torch.float).to(device)\n",
    "        \n",
    "        assert patient_infos_tensor.shape[1] == 3, \"Incorrect number of patient features\"\n",
    "\n",
    "        output = model(images, patient_infos_tensor)\n",
    "\n",
    "        pred = torch.sigmoid(output).mean().item() > 0.5 \n",
    "        patient_id = patient_ids[0] if isinstance(patient_ids, (list, torch.Tensor)) else patient_ids\n",
    "        predictions.append([patient_id, int(pred)])\n",
    "\n",
    "\n",
    "submission_df= pd.DataFrame(predictions, columns=['Id', 'Predicted'])\n"
   ]
  },
  {
   "cell_type": "code",
   "execution_count": null,
   "id": "4ac50ac7",
   "metadata": {},
   "outputs": [],
   "source": [
    "# Convert predictions to DataFrame and save to CSV for submission\n",
    "submission_df = pd.DataFrame(predictions, columns=['Id', 'Predicted'])\n",
    "submission_df.to_csv('/kaggle/working/submission.csv', index=False)\n"
   ]
  }
 ],
 "metadata": {
  "kaggle": {
   "accelerator": "nvidiaTeslaT4",
   "dataSources": [
    {
     "datasetId": 4642311,
     "sourceId": 7903829,
     "sourceType": "datasetVersion"
    }
   ],
   "dockerImageVersionId": 30674,
   "isGpuEnabled": true,
   "isInternetEnabled": true,
   "language": "python",
   "sourceType": "notebook"
  },
  "kernelspec": {
   "display_name": "Python 3",
   "language": "python",
   "name": "python3"
  },
  "language_info": {
   "codemirror_mode": {
    "name": "ipython",
    "version": 3
   },
   "file_extension": ".py",
   "mimetype": "text/x-python",
   "name": "python",
   "nbconvert_exporter": "python",
   "pygments_lexer": "ipython3",
   "version": "3.10.13"
  },
  "papermill": {
   "default_parameters": {},
   "duration": 4815.622068,
   "end_time": "2024-03-26T16:41:42.559923",
   "environment_variables": {},
   "exception": null,
   "input_path": "__notebook__.ipynb",
   "output_path": "__notebook__.ipynb",
   "parameters": {},
   "start_time": "2024-03-26T15:21:26.937855",
   "version": "2.5.0"
  }
 },
 "nbformat": 4,
 "nbformat_minor": 5
}
